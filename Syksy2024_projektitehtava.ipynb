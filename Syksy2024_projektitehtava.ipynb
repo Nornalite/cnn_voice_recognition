{
  "cells": [
    {
      "cell_type": "markdown",
      "metadata": {
        "id": "view-in-github",
        "colab_type": "text"
      },
      "source": [
        "<a href=\"https://colab.research.google.com/github/Nornalite/cnn_voice_recognition/blob/main/Syksy2024_projektitehtava.ipynb\" target=\"_parent\"><img src=\"https://colab.research.google.com/assets/colab-badge.svg\" alt=\"Open In Colab\"/></a>"
      ]
    },
    {
      "cell_type": "code",
      "execution_count": 1,
      "metadata": {
        "colab": {
          "base_uri": "https://localhost:8080/"
        },
        "id": "Jpr5xhQ34uyD",
        "outputId": "18cdba30-f1f6-472d-a178-0bc73b5041b4"
      },
      "outputs": [
        {
          "output_type": "stream",
          "name": "stdout",
          "text": [
            "Requirement already satisfied: pip in /usr/local/lib/python3.10/dist-packages (24.1.2)\n",
            "Collecting pip\n",
            "  Using cached pip-24.2-py3-none-any.whl.metadata (3.6 kB)\n",
            "Using cached pip-24.2-py3-none-any.whl (1.8 MB)\n",
            "Installing collected packages: pip\n",
            "  Attempting uninstall: pip\n",
            "    Found existing installation: pip 24.1.2\n",
            "    Uninstalling pip-24.1.2:\n",
            "      Successfully uninstalled pip-24.1.2\n",
            "Successfully installed pip-24.2\n",
            "Requirement already satisfied: keras in /usr/local/lib/python3.10/dist-packages (3.4.1)\n",
            "Collecting keras\n",
            "  Downloading keras-3.6.0-py3-none-any.whl.metadata (5.8 kB)\n",
            "Requirement already satisfied: absl-py in /usr/local/lib/python3.10/dist-packages (from keras) (1.4.0)\n",
            "Requirement already satisfied: numpy in /usr/local/lib/python3.10/dist-packages (from keras) (1.26.4)\n",
            "Requirement already satisfied: rich in /usr/local/lib/python3.10/dist-packages (from keras) (13.9.1)\n",
            "Requirement already satisfied: namex in /usr/local/lib/python3.10/dist-packages (from keras) (0.0.8)\n",
            "Requirement already satisfied: h5py in /usr/local/lib/python3.10/dist-packages (from keras) (3.11.0)\n",
            "Requirement already satisfied: optree in /usr/local/lib/python3.10/dist-packages (from keras) (0.13.0)\n",
            "Requirement already satisfied: ml-dtypes in /usr/local/lib/python3.10/dist-packages (from keras) (0.4.1)\n",
            "Requirement already satisfied: packaging in /usr/local/lib/python3.10/dist-packages (from keras) (24.1)\n",
            "Requirement already satisfied: typing-extensions>=4.5.0 in /usr/local/lib/python3.10/dist-packages (from optree->keras) (4.12.2)\n",
            "Requirement already satisfied: markdown-it-py>=2.2.0 in /usr/local/lib/python3.10/dist-packages (from rich->keras) (3.0.0)\n",
            "Requirement already satisfied: pygments<3.0.0,>=2.13.0 in /usr/local/lib/python3.10/dist-packages (from rich->keras) (2.18.0)\n",
            "Requirement already satisfied: mdurl~=0.1 in /usr/local/lib/python3.10/dist-packages (from markdown-it-py>=2.2.0->rich->keras) (0.1.2)\n",
            "Downloading keras-3.6.0-py3-none-any.whl (1.2 MB)\n",
            "\u001b[2K   \u001b[90m━━━━━━━━━━━━━━━━━━━━━━━━━━━━━━━━━━━━━━━━\u001b[0m \u001b[32m1.2/1.2 MB\u001b[0m \u001b[31m19.5 MB/s\u001b[0m eta \u001b[36m0:00:00\u001b[0m\n",
            "\u001b[?25hInstalling collected packages: keras\n",
            "  Attempting uninstall: keras\n",
            "    Found existing installation: keras 3.4.1\n",
            "    Uninstalling keras-3.4.1:\n",
            "      Successfully uninstalled keras-3.4.1\n",
            "Successfully installed keras-3.6.0\n"
          ]
        }
      ],
      "source": [
        "!pip install --upgrade pip\n",
        "!pip install --upgrade keras\n",
        "!pip install -U -q tensorflow\n",
        "#!pip show keras\n"
      ]
    },
    {
      "cell_type": "code",
      "execution_count": 2,
      "metadata": {
        "id": "6vDG3KG50i6v"
      },
      "outputs": [],
      "source": [
        "# Nämä importattiin simple audio mallissa.\n",
        "import os\n",
        "import pathlib\n",
        "import math\n",
        "import cmath\n",
        "\n",
        "import matplotlib.pyplot as plt\n",
        "import numpy as np\n",
        "import seaborn as sns\n",
        "import tensorflow as tf\n",
        "\n",
        "from keras import layers\n",
        "from keras import models\n",
        "from IPython import display\n",
        "\n"
      ]
    },
    {
      "cell_type": "code",
      "execution_count": 3,
      "metadata": {
        "colab": {
          "base_uri": "https://localhost:8080/",
          "height": 482
        },
        "id": "xMIvtPLYqxK5",
        "outputId": "b94ccbc7-99bb-4a3e-998d-9e4f3b107d82"
      },
      "outputs": [
        {
          "output_type": "display_data",
          "data": {
            "text/plain": [
              "\u001b[1mModel: \"sequential_24\"\u001b[0m\n"
            ],
            "text/html": [
              "<pre style=\"white-space:pre;overflow-x:auto;line-height:normal;font-family:Menlo,'DejaVu Sans Mono',consolas,'Courier New',monospace\"><span style=\"font-weight: bold\">Model: \"sequential_24\"</span>\n",
              "</pre>\n"
            ]
          },
          "metadata": {}
        },
        {
          "output_type": "display_data",
          "data": {
            "text/plain": [
              "┏━━━━━━━━━━━━━━━━━━━━━━━━━━━━━━━━━━━━━━┳━━━━━━━━━━━━━━━━━━━━━━━━━━━━━┳━━━━━━━━━━━━━━━━━┓\n",
              "┃\u001b[1m \u001b[0m\u001b[1mLayer (type)                        \u001b[0m\u001b[1m \u001b[0m┃\u001b[1m \u001b[0m\u001b[1mOutput Shape               \u001b[0m\u001b[1m \u001b[0m┃\u001b[1m \u001b[0m\u001b[1m        Param #\u001b[0m\u001b[1m \u001b[0m┃\n",
              "┡━━━━━━━━━━━━━━━━━━━━━━━━━━━━━━━━━━━━━━╇━━━━━━━━━━━━━━━━━━━━━━━━━━━━━╇━━━━━━━━━━━━━━━━━┩\n",
              "│ resizing_24 (\u001b[38;5;33mResizing\u001b[0m)               │ (\u001b[38;5;45mNone\u001b[0m, \u001b[38;5;34m32\u001b[0m, \u001b[38;5;34m32\u001b[0m, \u001b[38;5;34m1\u001b[0m)           │               \u001b[38;5;34m0\u001b[0m │\n",
              "├──────────────────────────────────────┼─────────────────────────────┼─────────────────┤\n",
              "│ normalization_24 (\u001b[38;5;33mNormalization\u001b[0m)     │ (\u001b[38;5;45mNone\u001b[0m, \u001b[38;5;34m32\u001b[0m, \u001b[38;5;34m32\u001b[0m, \u001b[38;5;34m1\u001b[0m)           │               \u001b[38;5;34m3\u001b[0m │\n",
              "├──────────────────────────────────────┼─────────────────────────────┼─────────────────┤\n",
              "│ conv2d_48 (\u001b[38;5;33mConv2D\u001b[0m)                   │ (\u001b[38;5;45mNone\u001b[0m, \u001b[38;5;34m30\u001b[0m, \u001b[38;5;34m30\u001b[0m, \u001b[38;5;34m32\u001b[0m)          │             \u001b[38;5;34m320\u001b[0m │\n",
              "├──────────────────────────────────────┼─────────────────────────────┼─────────────────┤\n",
              "│ conv2d_49 (\u001b[38;5;33mConv2D\u001b[0m)                   │ (\u001b[38;5;45mNone\u001b[0m, \u001b[38;5;34m28\u001b[0m, \u001b[38;5;34m28\u001b[0m, \u001b[38;5;34m64\u001b[0m)          │          \u001b[38;5;34m18,496\u001b[0m │\n",
              "├──────────────────────────────────────┼─────────────────────────────┼─────────────────┤\n",
              "│ max_pooling2d_25 (\u001b[38;5;33mMaxPooling2D\u001b[0m)      │ (\u001b[38;5;45mNone\u001b[0m, \u001b[38;5;34m14\u001b[0m, \u001b[38;5;34m14\u001b[0m, \u001b[38;5;34m64\u001b[0m)          │               \u001b[38;5;34m0\u001b[0m │\n",
              "├──────────────────────────────────────┼─────────────────────────────┼─────────────────┤\n",
              "│ dropout_51 (\u001b[38;5;33mDropout\u001b[0m)                 │ (\u001b[38;5;45mNone\u001b[0m, \u001b[38;5;34m14\u001b[0m, \u001b[38;5;34m14\u001b[0m, \u001b[38;5;34m64\u001b[0m)          │               \u001b[38;5;34m0\u001b[0m │\n",
              "├──────────────────────────────────────┼─────────────────────────────┼─────────────────┤\n",
              "│ flatten_24 (\u001b[38;5;33mFlatten\u001b[0m)                 │ (\u001b[38;5;45mNone\u001b[0m, \u001b[38;5;34m12544\u001b[0m)               │               \u001b[38;5;34m0\u001b[0m │\n",
              "├──────────────────────────────────────┼─────────────────────────────┼─────────────────┤\n",
              "│ dense_51 (\u001b[38;5;33mDense\u001b[0m)                     │ (\u001b[38;5;45mNone\u001b[0m, \u001b[38;5;34m128\u001b[0m)                 │       \u001b[38;5;34m1,605,760\u001b[0m │\n",
              "├──────────────────────────────────────┼─────────────────────────────┼─────────────────┤\n",
              "│ dropout_52 (\u001b[38;5;33mDropout\u001b[0m)                 │ (\u001b[38;5;45mNone\u001b[0m, \u001b[38;5;34m128\u001b[0m)                 │               \u001b[38;5;34m0\u001b[0m │\n",
              "├──────────────────────────────────────┼─────────────────────────────┼─────────────────┤\n",
              "│ dense_52 (\u001b[38;5;33mDense\u001b[0m)                     │ (\u001b[38;5;45mNone\u001b[0m, \u001b[38;5;34m8\u001b[0m)                   │           \u001b[38;5;34m1,032\u001b[0m │\n",
              "└──────────────────────────────────────┴─────────────────────────────┴─────────────────┘\n"
            ],
            "text/html": [
              "<pre style=\"white-space:pre;overflow-x:auto;line-height:normal;font-family:Menlo,'DejaVu Sans Mono',consolas,'Courier New',monospace\">┏━━━━━━━━━━━━━━━━━━━━━━━━━━━━━━━━━━━━━━┳━━━━━━━━━━━━━━━━━━━━━━━━━━━━━┳━━━━━━━━━━━━━━━━━┓\n",
              "┃<span style=\"font-weight: bold\"> Layer (type)                         </span>┃<span style=\"font-weight: bold\"> Output Shape                </span>┃<span style=\"font-weight: bold\">         Param # </span>┃\n",
              "┡━━━━━━━━━━━━━━━━━━━━━━━━━━━━━━━━━━━━━━╇━━━━━━━━━━━━━━━━━━━━━━━━━━━━━╇━━━━━━━━━━━━━━━━━┩\n",
              "│ resizing_24 (<span style=\"color: #0087ff; text-decoration-color: #0087ff\">Resizing</span>)               │ (<span style=\"color: #00d7ff; text-decoration-color: #00d7ff\">None</span>, <span style=\"color: #00af00; text-decoration-color: #00af00\">32</span>, <span style=\"color: #00af00; text-decoration-color: #00af00\">32</span>, <span style=\"color: #00af00; text-decoration-color: #00af00\">1</span>)           │               <span style=\"color: #00af00; text-decoration-color: #00af00\">0</span> │\n",
              "├──────────────────────────────────────┼─────────────────────────────┼─────────────────┤\n",
              "│ normalization_24 (<span style=\"color: #0087ff; text-decoration-color: #0087ff\">Normalization</span>)     │ (<span style=\"color: #00d7ff; text-decoration-color: #00d7ff\">None</span>, <span style=\"color: #00af00; text-decoration-color: #00af00\">32</span>, <span style=\"color: #00af00; text-decoration-color: #00af00\">32</span>, <span style=\"color: #00af00; text-decoration-color: #00af00\">1</span>)           │               <span style=\"color: #00af00; text-decoration-color: #00af00\">3</span> │\n",
              "├──────────────────────────────────────┼─────────────────────────────┼─────────────────┤\n",
              "│ conv2d_48 (<span style=\"color: #0087ff; text-decoration-color: #0087ff\">Conv2D</span>)                   │ (<span style=\"color: #00d7ff; text-decoration-color: #00d7ff\">None</span>, <span style=\"color: #00af00; text-decoration-color: #00af00\">30</span>, <span style=\"color: #00af00; text-decoration-color: #00af00\">30</span>, <span style=\"color: #00af00; text-decoration-color: #00af00\">32</span>)          │             <span style=\"color: #00af00; text-decoration-color: #00af00\">320</span> │\n",
              "├──────────────────────────────────────┼─────────────────────────────┼─────────────────┤\n",
              "│ conv2d_49 (<span style=\"color: #0087ff; text-decoration-color: #0087ff\">Conv2D</span>)                   │ (<span style=\"color: #00d7ff; text-decoration-color: #00d7ff\">None</span>, <span style=\"color: #00af00; text-decoration-color: #00af00\">28</span>, <span style=\"color: #00af00; text-decoration-color: #00af00\">28</span>, <span style=\"color: #00af00; text-decoration-color: #00af00\">64</span>)          │          <span style=\"color: #00af00; text-decoration-color: #00af00\">18,496</span> │\n",
              "├──────────────────────────────────────┼─────────────────────────────┼─────────────────┤\n",
              "│ max_pooling2d_25 (<span style=\"color: #0087ff; text-decoration-color: #0087ff\">MaxPooling2D</span>)      │ (<span style=\"color: #00d7ff; text-decoration-color: #00d7ff\">None</span>, <span style=\"color: #00af00; text-decoration-color: #00af00\">14</span>, <span style=\"color: #00af00; text-decoration-color: #00af00\">14</span>, <span style=\"color: #00af00; text-decoration-color: #00af00\">64</span>)          │               <span style=\"color: #00af00; text-decoration-color: #00af00\">0</span> │\n",
              "├──────────────────────────────────────┼─────────────────────────────┼─────────────────┤\n",
              "│ dropout_51 (<span style=\"color: #0087ff; text-decoration-color: #0087ff\">Dropout</span>)                 │ (<span style=\"color: #00d7ff; text-decoration-color: #00d7ff\">None</span>, <span style=\"color: #00af00; text-decoration-color: #00af00\">14</span>, <span style=\"color: #00af00; text-decoration-color: #00af00\">14</span>, <span style=\"color: #00af00; text-decoration-color: #00af00\">64</span>)          │               <span style=\"color: #00af00; text-decoration-color: #00af00\">0</span> │\n",
              "├──────────────────────────────────────┼─────────────────────────────┼─────────────────┤\n",
              "│ flatten_24 (<span style=\"color: #0087ff; text-decoration-color: #0087ff\">Flatten</span>)                 │ (<span style=\"color: #00d7ff; text-decoration-color: #00d7ff\">None</span>, <span style=\"color: #00af00; text-decoration-color: #00af00\">12544</span>)               │               <span style=\"color: #00af00; text-decoration-color: #00af00\">0</span> │\n",
              "├──────────────────────────────────────┼─────────────────────────────┼─────────────────┤\n",
              "│ dense_51 (<span style=\"color: #0087ff; text-decoration-color: #0087ff\">Dense</span>)                     │ (<span style=\"color: #00d7ff; text-decoration-color: #00d7ff\">None</span>, <span style=\"color: #00af00; text-decoration-color: #00af00\">128</span>)                 │       <span style=\"color: #00af00; text-decoration-color: #00af00\">1,605,760</span> │\n",
              "├──────────────────────────────────────┼─────────────────────────────┼─────────────────┤\n",
              "│ dropout_52 (<span style=\"color: #0087ff; text-decoration-color: #0087ff\">Dropout</span>)                 │ (<span style=\"color: #00d7ff; text-decoration-color: #00d7ff\">None</span>, <span style=\"color: #00af00; text-decoration-color: #00af00\">128</span>)                 │               <span style=\"color: #00af00; text-decoration-color: #00af00\">0</span> │\n",
              "├──────────────────────────────────────┼─────────────────────────────┼─────────────────┤\n",
              "│ dense_52 (<span style=\"color: #0087ff; text-decoration-color: #0087ff\">Dense</span>)                     │ (<span style=\"color: #00d7ff; text-decoration-color: #00d7ff\">None</span>, <span style=\"color: #00af00; text-decoration-color: #00af00\">8</span>)                   │           <span style=\"color: #00af00; text-decoration-color: #00af00\">1,032</span> │\n",
              "└──────────────────────────────────────┴─────────────────────────────┴─────────────────┘\n",
              "</pre>\n"
            ]
          },
          "metadata": {}
        },
        {
          "output_type": "display_data",
          "data": {
            "text/plain": [
              "\u001b[1m Total params: \u001b[0m\u001b[38;5;34m4,876,829\u001b[0m (18.60 MB)\n"
            ],
            "text/html": [
              "<pre style=\"white-space:pre;overflow-x:auto;line-height:normal;font-family:Menlo,'DejaVu Sans Mono',consolas,'Courier New',monospace\"><span style=\"font-weight: bold\"> Total params: </span><span style=\"color: #00af00; text-decoration-color: #00af00\">4,876,829</span> (18.60 MB)\n",
              "</pre>\n"
            ]
          },
          "metadata": {}
        },
        {
          "output_type": "display_data",
          "data": {
            "text/plain": [
              "\u001b[1m Trainable params: \u001b[0m\u001b[38;5;34m1,625,608\u001b[0m (6.20 MB)\n"
            ],
            "text/html": [
              "<pre style=\"white-space:pre;overflow-x:auto;line-height:normal;font-family:Menlo,'DejaVu Sans Mono',consolas,'Courier New',monospace\"><span style=\"font-weight: bold\"> Trainable params: </span><span style=\"color: #00af00; text-decoration-color: #00af00\">1,625,608</span> (6.20 MB)\n",
              "</pre>\n"
            ]
          },
          "metadata": {}
        },
        {
          "output_type": "display_data",
          "data": {
            "text/plain": [
              "\u001b[1m Non-trainable params: \u001b[0m\u001b[38;5;34m3\u001b[0m (16.00 B)\n"
            ],
            "text/html": [
              "<pre style=\"white-space:pre;overflow-x:auto;line-height:normal;font-family:Menlo,'DejaVu Sans Mono',consolas,'Courier New',monospace\"><span style=\"font-weight: bold\"> Non-trainable params: </span><span style=\"color: #00af00; text-decoration-color: #00af00\">3</span> (16.00 B)\n",
              "</pre>\n"
            ]
          },
          "metadata": {}
        },
        {
          "output_type": "display_data",
          "data": {
            "text/plain": [
              "\u001b[1m Optimizer params: \u001b[0m\u001b[38;5;34m3,251,218\u001b[0m (12.40 MB)\n"
            ],
            "text/html": [
              "<pre style=\"white-space:pre;overflow-x:auto;line-height:normal;font-family:Menlo,'DejaVu Sans Mono',consolas,'Courier New',monospace\"><span style=\"font-weight: bold\"> Optimizer params: </span><span style=\"color: #00af00; text-decoration-color: #00af00\">3,251,218</span> (12.40 MB)\n",
              "</pre>\n"
            ]
          },
          "metadata": {}
        },
        {
          "output_type": "stream",
          "name": "stdout",
          "text": [
            "None\n"
          ]
        }
      ],
      "source": [
        "import sys\n",
        "\n",
        "import numpy as np\n",
        "from keras import Model\n",
        "from keras import Layer\n",
        "\n",
        "def import_model(filepath: str) -> Model:\n",
        "    \"\"\"Load model from file\"\"\"\n",
        "    model: Model = models.load_model(filepath)\n",
        "    return model\n",
        "\n",
        "model = import_model('model_export.keras')\n",
        "print(model.summary())\n",
        "\n"
      ]
    },
    {
      "cell_type": "code",
      "execution_count": 4,
      "metadata": {
        "id": "VwO54FcMW-12"
      },
      "outputs": [],
      "source": [
        "def get_layer_weights(layer: str, model: Model) -> list[np.ndarray]:\n",
        "    \"\"\"Get layer weights from given model\"\"\"\n",
        "    return model.get_layer(layer).get_weights()\n",
        "\n",
        "\n",
        "def get_weights_shape(layer: list[np.ndarray]):\n",
        "    tmp = []\n",
        "    for i in layer:\n",
        "        tmp.append(i.shape)\n",
        "    return tmp\n",
        "\n",
        "\n",
        "\n",
        "class DummyLayer(Layer):\n",
        "    def __init__(self):\n",
        "        super(DummyLayer, self).__init__()\n",
        "\n",
        "    def call(self, inputs):\n",
        "        return inputs\n",
        "\n",
        "def get_reference_layer(layer: str, model: Model):\n",
        "    \"\"\"Split the model in to three parts start, layer and rest.\n",
        "\n",
        "    Example:\n",
        "    ```python\n",
        "    model = import_model(\"../model/test_model.keras\")\n",
        "    (start, layer, end) = get_reference_layer(\"dense\", model)\n",
        "\n",
        "    result = start(waveform)\n",
        "    layer_result = layer(result)\n",
        "    print(layer_result)\n",
        "    ```\n",
        "    \"\"\"\n",
        "    modelStart = models.Sequential()\n",
        "    selectedLayer: Layer\n",
        "    modelEnd = models.Sequential()\n",
        "\n",
        "    start = True\n",
        "    l: Layer\n",
        "    for l in model.layers:\n",
        "        if l.name == layer:\n",
        "            start = False\n",
        "            selectedLayer = l\n",
        "            continue\n",
        "        if start:\n",
        "            modelStart.add(l)\n",
        "        else:\n",
        "            modelEnd.add(l)\n",
        "\n",
        "    if not len(modelStart.layers):\n",
        "        modelStart.add(DummyLayer())\n",
        "    if not len(modelEnd.layers):\n",
        "        modelEnd.add(DummyLayer())\n",
        "\n",
        "    modelStart.build(model.input_shape)\n",
        "    modelEnd.build(selectedLayer.output.shape)\n",
        "    return (modelStart, selectedLayer, modelEnd)\n",
        "\n"
      ]
    },
    {
      "cell_type": "code",
      "execution_count": 5,
      "metadata": {
        "id": "rERnpFPJb_Lg",
        "colab": {
          "base_uri": "https://localhost:8080/"
        },
        "outputId": "aa6acf99-00b7-4da6-bca6-f0923641de42"
      },
      "outputs": [
        {
          "output_type": "stream",
          "name": "stdout",
          "text": [
            "Downloading data from http://storage.googleapis.com/download.tensorflow.org/data/mini_speech_commands.zip\n",
            "\u001b[1m182082353/182082353\u001b[0m \u001b[32m━━━━━━━━━━━━━━━━━━━━\u001b[0m\u001b[37m\u001b[0m \u001b[1m1s\u001b[0m 0us/step\n"
          ]
        }
      ],
      "source": [
        "DATASET_PATH = 'data/mini_speech_commands_extracted/mini_speech_commands'\n",
        "\n",
        "data_dir = pathlib.Path(DATASET_PATH)\n",
        "if not data_dir.exists():\n",
        "  tf.keras.utils.get_file(\n",
        "      'mini_speech_commands.zip',\n",
        "      origin=\"http://storage.googleapis.com/download.tensorflow.org/data/mini_speech_commands.zip\",\n",
        "      extract=True,\n",
        "      cache_dir='.', cache_subdir='data')"
      ]
    },
    {
      "cell_type": "code",
      "execution_count": 6,
      "metadata": {
        "id": "LlWiqVMambgu"
      },
      "outputs": [],
      "source": [
        "def get_spectrogram(waveform):\n",
        "  # Convert the waveform to a spectrogram via a STFT.\n",
        "  spectrogram = tf.signal.stft(\n",
        "      waveform, frame_length=255, frame_step=128)\n",
        "  # Obtain the magnitude of the STFT.\n",
        "  spectrogram = tf.abs(spectrogram)\n",
        "  # Add a `channels` dimension, so that the spectrogram can be used\n",
        "  # as image-like input data with convolution layers (which expect\n",
        "  # shape (`batch_size`, `height`, `width`, `channels`).\n",
        "  spectrogram = spectrogram[..., tf.newaxis]\n",
        "  return spectrogram\n",
        "\n"
      ]
    },
    {
      "cell_type": "code",
      "execution_count": 78,
      "metadata": {
        "colab": {
          "base_uri": "https://localhost:8080/",
          "height": 52
        },
        "id": "N6wuJ78WYGDE",
        "outputId": "0b831763-0a26-4afa-b223-b8256abb7e98"
      },
      "outputs": [
        {
          "output_type": "execute_result",
          "data": {
            "text/plain": [
              "\"\\nwaveform = x\\nx = get_spectrogram(x)\\nx = x[tf.newaxis,...]\\n\\nprediction = model(x)\\n\\nplt.bar(x_labels, tf.nn.softmax(prediction[0]))\\nplt.title('No')\\nplt.show()\\n\\ndisplay.display(display.Audio(waveform, rate=16000))\\n\""
            ],
            "application/vnd.google.colaboratory.intrinsic+json": {
              "type": "string"
            }
          },
          "metadata": {},
          "execution_count": 78
        }
      ],
      "source": [
        "x = data_dir/'right/0132a06d_nohash_1.wav'\n",
        "x = tf.io.read_file(str(x))\n",
        "x, sample_rate = tf.audio.decode_wav(x, desired_channels=1, desired_samples=16000,)\n",
        "x = tf.squeeze(x, axis=-1)\n",
        "\n",
        "audio_sample = x\n",
        "true_spectrogram = get_spectrogram(x)[tf.newaxis,...]\n",
        "x_labels = ['down', 'go', 'left', 'no', 'right', 'stop', 'up', 'yes']\n",
        "\n",
        "'''\n",
        "waveform = x\n",
        "x = get_spectrogram(x)\n",
        "x = x[tf.newaxis,...]\n",
        "\n",
        "prediction = model(x)\n",
        "\n",
        "plt.bar(x_labels, tf.nn.softmax(prediction[0]))\n",
        "plt.title('No')\n",
        "plt.show()\n",
        "\n",
        "display.display(display.Audio(waveform, rate=16000))\n",
        "'''"
      ]
    },
    {
      "cell_type": "code",
      "source": [
        "# Tekee lämpökartat kahdesta annetusta kuvasta\n",
        "def compare_images(image1, title1, image2, title2):\n",
        "  fig, axes = plt.subplots(1, 2, figsize=(18, 6))\n",
        "\n",
        "  plt.subplot(1,2,1)\n",
        "  axes[0].set_title(title1)\n",
        "  i1 = np.array(image1).reshape((len(image1),len(image1[0])))\n",
        "  sns.heatmap(i1)\n",
        "\n",
        "  plt.subplot(1,2,2)\n",
        "  axes[1].set_title(title2)\n",
        "  i2 = np.array(image2).reshape((len(image2),len(image2[0])))\n",
        "  sns.heatmap(i2)\n",
        "\n",
        "  plt.show()"
      ],
      "metadata": {
        "id": "bwQFJDZQ8oXd"
      },
      "execution_count": 8,
      "outputs": []
    },
    {
      "cell_type": "code",
      "execution_count": 75,
      "metadata": {
        "id": "a62g_3CNfCQL"
      },
      "outputs": [],
      "source": [
        "# Yleinen tiedotus:\n",
        "# Muunnetaan kaikki sisään otettu tavallisiksi Python-listoiksi koska tässä taloudessa ei käytetä mitään\n",
        "# NumPyjä >:c\n",
        "\n",
        "# stft\n",
        "def generate_spectrogram(signal, sample_no, step, size):\n",
        "  # A list long enough to accommodate(?) all the sections taken at certain intervals\n",
        "  result_length = int((len(signal) - (sample_no - step)) / step)\n",
        "  result = [0 for _ in range(result_length)]\n",
        "\n",
        "  for i in range(result_length):\n",
        "    # Take a segment of the whole audio sample\n",
        "    segment = signal[int(i * step) : int(i * step + sample_no)]\n",
        "    # And feed its fourier transform to that space in time\n",
        "    result[i] = calculate_fourier(segment, size)\n",
        "\n",
        "  return result\n",
        "\n",
        "def calculate_fourier(signal, freq_no):\n",
        "  length = len(signal)\n",
        "  # z axis for continuity and y axis based on the number of frequencies measured\n",
        "  # (we don't know where the 129 comes from in the original model)\n",
        "  frequencies = [[0 for _ in range(1)] for _ in range(freq_no)]\n",
        "\n",
        "  # A hann window smoothes the edges of the segment (it's shaped kind of like a bell curve and used to weigh the values taken in)\n",
        "  hann_window = generate_hann(length)\n",
        "\n",
        "  # For each frequency measured\n",
        "  for i in range(freq_no):\n",
        "    value = 0\n",
        "    # For every sample in the block of samples being processed\n",
        "    for j in range(length):\n",
        "\n",
        "      # Calculate the \"weight\" of each frequency at each point in the sample\n",
        "      value += signal[j] * hann_window[j] * cmath.exp(-1j * 2 * math.pi * i * j / length)\n",
        "    # And ultimately make sure to take in the magnitude (as the calculations are done with complex numbers)\n",
        "    frequencies[i][0] = abs(value)\n",
        "\n",
        "  return frequencies\n",
        "\n",
        "\n",
        "def generate_hann(len):\n",
        "  length = len + 1\n",
        "  window = [0 for _ in range(length)]\n",
        "  for i in range(length):\n",
        "    window[i] = 0.5 - 0.5 * math.cos((2 * math.pi * i) / (len))\n",
        "\n",
        "  return window\n",
        "\n",
        "\n",
        "# Bilineaarinen interpolaatio: sovittaa vanhan kuvan päälle uuden kuvan ruudukon, nappaa uusiin\n",
        "# pikseleihin arvon lähellä olevien vanhan kuvan pikseleiden keskiarvoista\n",
        "def resize(data, width, height):\n",
        "  result = [[[0 for _ in range(len(data[0][0]))] for _ in range(height)] for _ in range(width)]\n",
        "\n",
        "  #Listojen suhteet\n",
        "  ratio_x = len(data) / width\n",
        "  ratio_y = len(data[0]) / height\n",
        "  print(\"Suhteet: \", len(data), \"/\", width, \" eli \", ratio_x, \" ja \", len(data[0]), \"/\", height, \" eli \", ratio_y)\n",
        "\n",
        "  for i in range(width):\n",
        "    for j in range(height):\n",
        "      for k in range(len(data[0][0])):\n",
        "        # Kullakin hetkellä laskettavan uuden pikselin keskipiste\n",
        "        pos_x = ratio_x * (i + 0.5)\n",
        "        pos_y = ratio_y * (j + 0.5)\n",
        "\n",
        "        # Tarkistus täsmääkö uusi pikseli johonkin pikseliin alkuperäisessä kuvassa\n",
        "        # Jos kyllä, otetaan vain arvo talteen\n",
        "        if (pos_x % 1 == 0 and pos_y % 1 == 0):\n",
        "          result[i][j][k] = data[int(ratio_x * i)][int(ratio_y * j)][k]\n",
        "          continue\n",
        "\n",
        "        # Pienempien pikselin indeksit ovat uuden pisteen x- ja y-koordinaattien takana, otetaan -0.5 taaksepäin\n",
        "        # jottei vahingossa oteta pikseliä jonka keskikohta onkin viivan edessä (tämä taisi olla meidän suurin ongelmamme)\n",
        "        low_x = int(pos_x - 0.5)\n",
        "        low_y = int(pos_y - 0.5)\n",
        "\n",
        "        # Tarkistus vastaako x-akseli jotain tasalinjaa\n",
        "        # Jos ei\n",
        "        if (pos_x % 1 != 0):\n",
        "          # Edessä ja takana olevien pikselien indeksit talteen\n",
        "          high_x = int(low_x + 1)\n",
        "          # Etäisyydet ko. pikseleihin talteen\n",
        "          len_x1 = pos_x - (low_x + 0.5)\n",
        "          len_x2 = (high_x + 0.5) - pos_x\n",
        "        else:\n",
        "          # Tasalinjalla molemmat x:n arvot ovat samat, pituusarvoiksi laitetaan 0.5 niin että kahdesti\n",
        "          # kertomalla tulisi sama lopputulos\n",
        "          high_x = low_x\n",
        "          len_x1 = 0.5\n",
        "          len_x2 = 0.5\n",
        "\n",
        "        # Tarkistus vastaako y-akseli jotain tasalinjaa\n",
        "        # Jos ei\n",
        "        if (pos_y % 1 != 0):\n",
        "          # Edessä ja takana olevien pikselien indeksit talteen\n",
        "          high_y = int(low_y + 1)\n",
        "          # Etäisyydet ko. pikseleihin talteen\n",
        "          len_y1 = pos_y - (low_y + 0.5)\n",
        "          len_y2 = (high_y + 0.5) - pos_y\n",
        "        else:\n",
        "          # Tasalinjalla molemmat y:n arvot ovat samat, pituusarvoiksi laitetaan 0.5 niin että kahdesti\n",
        "          # kertomalla tulisi sama lopputulos\n",
        "          high_y = low_y\n",
        "          len_y1 = 0.5\n",
        "          len_y2 = 0.5\n",
        "\n",
        "        # Kunkin vanhan pikselin arvo kerrottuna sitä vastakkaisella puolella olevan alueen koolla\n",
        "        # (= lähellä oleva pikseli => isompi alue => isompi vaikutus lopulliseen arvoon)\n",
        "        value = (data[low_x][low_y][k] * len_x2 * len_y2)\n",
        "        value += (data[low_x][high_y][k] * len_x2 * len_y1)\n",
        "        value += (data[high_x][low_y][k] * len_x1 * len_y2)\n",
        "        value += (data[high_x][high_y][k] * len_x1 * len_y1)\n",
        "\n",
        "        result[i][j][k] = value\n",
        "  return result\n",
        "\n",
        "\n",
        "# Muokkaa kuvaa niin, että arvot laskeutuvat tietylle alueelle(?)\n",
        "def normalize(data, weights):\n",
        "  result = [[[0 for _ in range(len(data[0][0]))] for _ in range(len(data[0]))] for _ in range(len(data))]\n",
        "\n",
        "  for i in range(len(result)):\n",
        "    for j in range(len(result[0])):\n",
        "      for k in range(len(result[0][0])):\n",
        "        result[i][j][k] += (data[i][j][k] - weights[0][0]) / (weights[1][0] ** 0.5)\n",
        "\n",
        "  return result\n",
        "\n",
        "\n",
        "# Kiertää kuva(t/n) läpi suodattim(i/e)lla, joka kohdalla kertoo kuvan pikselin arvon suodattimen senkohtaisella arvolla\n",
        "def convolution(data, weights, bias):\n",
        "  result = [[[0 for _ in range(len(weights[0][0][0]))] for _ in range(len(data[0])-2)] for _ in range(len(data)-2)]\n",
        "  # Kuvan x-akseli\n",
        "  for i in range(len(result)):\n",
        "    # Kuvan y-akseli\n",
        "    for j in range(len(result[0])):\n",
        "      # Filtterien määrä\n",
        "      for k in range(len(result[0][0])):\n",
        "        total = 0\n",
        "        # Kuvanipun paksuus\n",
        "        for n in range(len(data[0][0])):\n",
        "          # Filtterin x-akseli\n",
        "          for l in range(len(weights)):\n",
        "            # Filtterin y-akseli\n",
        "            for m in range(len(weights[0])):\n",
        "              total += data[i+l][j+m][n] * weights[l][m][n][k]\n",
        "        total = total + bias[k]\n",
        "        result[i][j][k] = total if total > 0 else 0\n",
        "\n",
        "  return result\n",
        "\n",
        "\n",
        "# Kiertää kuvan läpi neljän pikselin nipuissa, nappaa jokaisesta suurimman arvon uuteen kuvaan\n",
        "def maxpool(data):\n",
        "  print(\"muoto\", len(data), \" \", len(data[0]), \" \", len(data[0][0]))\n",
        "\n",
        "  result = [[[0 for _ in range(len(data[0][0]))] for _ in range(len(data[0])//2)] for _ in range(len(data)//2)]\n",
        "\n",
        "  print(len(result), \" \", len(result[0]), \" \", len(result[0][0]))\n",
        "\n",
        "  for i in range(0, len(data), 2):\n",
        "    for j in range(0, len(data[0]), 2):\n",
        "      for k in range (0, len(data[0][0])):\n",
        "        max = data[i][j][k]\n",
        "        max = data[i+1][j][k] if (max < data[i+1][j][k]) else max\n",
        "        max = data[i][j+1][k] if (max < data[i][j+1][k]) else max\n",
        "        max = data[i+1][j+1][k] if (max < data[i+1][j+1][k]) else max\n",
        "        result[i//2][j//2][k] = max\n",
        "\n",
        "  return result\n",
        "\n",
        "\n",
        "# Muunnetaan kaikki sisään otettu tavallisiksi Python-listoiksi koska tässä taloudessa ei käytetä mitään\n",
        "# NumPyjä >:c\n",
        "def listify(thing):\n",
        "  # Numpy-listat muunnetaan suoraan,\n",
        "  if isinstance(thing, np.ndarray):\n",
        "    result = thing.tolist()\n",
        "  # Tensorit pitää aluksi muuntaa numpy-listoiksi jotta tolist() toimii\n",
        "  elif isinstance(thing, tf.Tensor):\n",
        "    if thing.shape[0] == 1:\n",
        "      result = thing[0].numpy().tolist()\n",
        "    else:\n",
        "      result = thing.numpy().tolist()\n",
        "  # Muissa tilanteissa luovutetaan\n",
        "  else:\n",
        "    result = thing\n",
        "\n",
        "  return result\n",
        "\n",
        "\n",
        "# Kuvanipun siivutus\n",
        "def flatten(data):\n",
        "  # Nippu tulee 3D-listana, joten otetaan sivujen pituus ja käytetään niitä kierrosmäärän ja\n",
        "  # kokonaismäärän laskemiseen\n",
        "  num = 0\n",
        "  result = [0 for _ in range(len(data) * len(data[0]) * len(data[0][0]))]\n",
        "  for i in range(len(data)):\n",
        "    for j in range(len(data[0])):\n",
        "      for k in range(len(data[0][0])):\n",
        "        result[num] = data[i][j][k]\n",
        "        num += 1\n",
        "  return result\n",
        "\n",
        "\n",
        "# Listojen keskenään kerronta\n",
        "def matmul(data, weights, bias):\n",
        "  # Luodaan oikean mittainen lista tuloksille (otetaan tässä painoarvojen kakkosriviltä, joka vastaa\n",
        "  # seuraavan kierroksen neuronien määrää)\n",
        "  result = [0 for _ in range(len(weights[1]))]\n",
        "\n",
        "  # Jokaisen neuronin tulos: aiemman neuronikerroksen (data_array) tulokset kerrottuina painoilla, + lopussa bias päälle\n",
        "  for i in range(len(weights[0])):\n",
        "    dot_product = 0\n",
        "    for j in range(len(weights)):\n",
        "      dot_product += data[j] * weights[j][i]\n",
        "    result[i] += bias[i] + dot_product\n",
        "\n",
        "  return result\n",
        "\n",
        "\n",
        "# Negatiivisten arvojen nollaus datassa\n",
        "def relu(data):\n",
        "  for i in range(len(data)):\n",
        "    if data[i] < 0:\n",
        "      data[i] = 0\n",
        "  return data\n",
        "\n",
        "\n",
        "# Neuronirivi 1 (relulla)\n",
        "def dense1(data, weights, bias):\n",
        "  result = matmul(data, weights, bias)\n",
        "  result = relu(result)\n",
        "  return result\n",
        "\n",
        "\n",
        "# Neuronirivi 2 (ilman relua, lopputulokset)\n",
        "def dense2(data, weights, bias):\n",
        "  result = matmul(data, weights, bias)\n",
        "  return result"
      ]
    },
    {
      "cell_type": "code",
      "execution_count": 79,
      "metadata": {
        "colab": {
          "base_uri": "https://localhost:8080/",
          "height": 972
        },
        "id": "LAaV9-7cZlG-",
        "outputId": "c502be6f-d5e1-421c-f3be-e16cea4c2ef1"
      },
      "outputs": [
        {
          "output_type": "stream",
          "name": "stdout",
          "text": [
            "Suhteet:  124 / 32  eli  3.875  ja  129 / 32  eli  4.03125\n",
            "muoto 28   28   64\n",
            "14   14   64\n"
          ]
        },
        {
          "output_type": "display_data",
          "data": {
            "text/plain": [
              "<Figure size 1800x600 with 4 Axes>"
            ],
            "image/png": "[encoded data removed]"
          },
          "metadata": {}
        },
        {
          "output_type": "stream",
          "name": "stdout",
          "text": [
            "valmis tulos =  [1.8374929428100586, -3.649909496307373, -1.3582557439804077, -11.482701301574707, 15.279044151306152, -7.336468696594238, -1.5200802087783813, -12.965882301330566]\n",
            "oma tulos =  [1.4142486252419872, -4.007361195478888, -0.9681350097405832, -11.905269131063571, 15.887405813558583, -7.514437515223369, -1.3368497801115928, -13.336355938394208]\n"
          ]
        },
        {
          "output_type": "display_data",
          "data": {
            "text/plain": [
              "<Figure size 640x480 with 2 Axes>"
            ],
            "image/png": "[encoded data removed]"
          },
          "metadata": {}
        }
      ],
      "source": [
        "(start, layer, end) = get_reference_layer(\"resizing_24\", model)\n",
        "norm_weights = listify(get_layer_weights(\"normalization_24\", model))\n",
        "conv_weights1 = listify(get_layer_weights(\"conv2d_48\", model))\n",
        "conv_weights2 = listify(get_layer_weights(\"conv2d_49\", model))\n",
        "weights1 = listify(get_layer_weights(\"dense_51\",model))\n",
        "weights2 = listify(get_layer_weights(\"dense_52\",model))\n",
        "\n",
        "w0 = listify(norm_weights)\n",
        "w1 = listify(conv_weights1[0])\n",
        "b1 = listify(conv_weights1[1])\n",
        "w2 = listify(conv_weights2[0])\n",
        "b2 = listify(conv_weights2[1])\n",
        "w3 = listify(weights1[0])\n",
        "b3 = listify(weights1[1])\n",
        "w4 = listify(weights2[0])\n",
        "b4 = listify(weights2[1])\n",
        "\n",
        "start_point = generate_spectrogram(listify(audio_sample), 255, 128, 129)\n",
        "step0 = resize(start_point, 32, 32)\n",
        "step1 = normalize(step0, w0)\n",
        "step2 = convolution(step1, w1, b1)\n",
        "step3 = convolution(step2, w2, b2)\n",
        "step4 = maxpool(step3)\n",
        "step5 = flatten(step4)\n",
        "step6 = dense1(step5, w3, b3)\n",
        "oma_result = dense2(step6, w4, b4)\n",
        "\n",
        "# Lämpökartta koonvaihdon testaukseen, virallisella Resize()-kerroksella tehty testikuva\n",
        "true_result = listify(model(true_spectrogram))\n",
        "true_resize = listify(layer(start(true_spectrogram)))\n",
        "\n",
        "compare_images(true_resize, \"Ohjelman kuva\", step0, \"Oma kuva\")\n",
        "'''\n",
        "for i in range(len(step0)):\n",
        "  for j in range(len(step0[0])):\n",
        "    print(\"True: \", true_resize[i][j], \", oma \", step0[i][j])\n",
        "'''\n",
        "\n",
        "print(\"valmis tulos = \", true_result)\n",
        "print(\"oma tulos = \", oma_result)\n",
        "\n",
        "plt.figure(1)\n",
        "plt.subplot(1,2,1)\n",
        "plt.bar(x_labels, tf.nn.softmax(true_result[:]))\n",
        "plt.subplot(1,2,2)\n",
        "plt.bar(x_labels, tf.nn.softmax(oma_result[:]))\n",
        "plt.show()"
      ]
    }
  ],
  "metadata": {
    "colab": {
      "provenance": [],
      "include_colab_link": true
    },
    "kernelspec": {
      "display_name": "Python 3",
      "name": "python3"
    },
    "language_info": {
      "name": "python"
    }
  },
  "nbformat": 4,
  "nbformat_minor": 0
}