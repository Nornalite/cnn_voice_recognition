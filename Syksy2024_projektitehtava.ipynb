{
  "cells": [
    {
      "cell_type": "markdown",
      "metadata": {
        "id": "view-in-github",
        "colab_type": "text"
      },
      "source": [
        "<a href=\"https://colab.research.google.com/github/Nornalite/cnn_voice_recognition/blob/main/Syksy2024_projektitehtava.ipynb\" target=\"_parent\"><img src=\"https://colab.research.google.com/assets/colab-badge.svg\" alt=\"Open In Colab\"/></a>"
      ]
    },
    {
      "cell_type": "code",
      "execution_count": null,
      "metadata": {
        "colab": {
          "base_uri": "https://localhost:8080/"
        },
        "id": "Jpr5xhQ34uyD",
        "outputId": "98f0220c-c517-4033-817b-d8acb145a059"
      },
      "outputs": [
        {
          "output_type": "stream",
          "name": "stdout",
          "text": [
            "Requirement already satisfied: pip in /usr/local/lib/python3.10/dist-packages (24.1.2)\n",
            "Collecting pip\n",
            "  Using cached pip-24.2-py3-none-any.whl.metadata (3.6 kB)\n",
            "Using cached pip-24.2-py3-none-any.whl (1.8 MB)\n",
            "Installing collected packages: pip\n",
            "  Attempting uninstall: pip\n",
            "    Found existing installation: pip 24.1.2\n",
            "    Uninstalling pip-24.1.2:\n",
            "      Successfully uninstalled pip-24.1.2\n",
            "Successfully installed pip-24.2\n",
            "Requirement already satisfied: keras in /usr/local/lib/python3.10/dist-packages (3.4.1)\n",
            "Collecting keras\n",
            "  Downloading keras-3.6.0-py3-none-any.whl.metadata (5.8 kB)\n",
            "Requirement already satisfied: absl-py in /usr/local/lib/python3.10/dist-packages (from keras) (1.4.0)\n",
            "Requirement already satisfied: numpy in /usr/local/lib/python3.10/dist-packages (from keras) (1.26.4)\n",
            "Requirement already satisfied: rich in /usr/local/lib/python3.10/dist-packages (from keras) (13.8.1)\n",
            "Requirement already satisfied: namex in /usr/local/lib/python3.10/dist-packages (from keras) (0.0.8)\n",
            "Requirement already satisfied: h5py in /usr/local/lib/python3.10/dist-packages (from keras) (3.11.0)\n",
            "Requirement already satisfied: optree in /usr/local/lib/python3.10/dist-packages (from keras) (0.12.1)\n",
            "Requirement already satisfied: ml-dtypes in /usr/local/lib/python3.10/dist-packages (from keras) (0.4.1)\n",
            "Requirement already satisfied: packaging in /usr/local/lib/python3.10/dist-packages (from keras) (24.1)\n",
            "Requirement already satisfied: typing-extensions>=4.5.0 in /usr/local/lib/python3.10/dist-packages (from optree->keras) (4.12.2)\n",
            "Requirement already satisfied: markdown-it-py>=2.2.0 in /usr/local/lib/python3.10/dist-packages (from rich->keras) (3.0.0)\n",
            "Requirement already satisfied: pygments<3.0.0,>=2.13.0 in /usr/local/lib/python3.10/dist-packages (from rich->keras) (2.18.0)\n",
            "Requirement already satisfied: mdurl~=0.1 in /usr/local/lib/python3.10/dist-packages (from markdown-it-py>=2.2.0->rich->keras) (0.1.2)\n",
            "Downloading keras-3.6.0-py3-none-any.whl (1.2 MB)\n",
            "\u001b[2K   \u001b[90m━━━━━━━━━━━━━━━━━━━━━━━━━━━━━━━━━━━━━━━━\u001b[0m \u001b[32m1.2/1.2 MB\u001b[0m \u001b[31m19.7 MB/s\u001b[0m eta \u001b[36m0:00:00\u001b[0m\n",
            "\u001b[?25hInstalling collected packages: keras\n",
            "  Attempting uninstall: keras\n",
            "    Found existing installation: keras 3.4.1\n",
            "    Uninstalling keras-3.4.1:\n",
            "      Successfully uninstalled keras-3.4.1\n",
            "Successfully installed keras-3.6.0\n"
          ]
        }
      ],
      "source": [
        "!pip install --upgrade pip\n",
        "!pip install --upgrade keras\n",
        "!pip install -U -q tensorflow\n",
        "#!pip show keras\n"
      ]
    },
    {
      "cell_type": "code",
      "execution_count": null,
      "metadata": {
        "id": "6vDG3KG50i6v"
      },
      "outputs": [],
      "source": [
        "# Nämä importattiin simple audio mallissa.\n",
        "import os\n",
        "import pathlib\n",
        "\n",
        "import matplotlib.pyplot as plt\n",
        "import numpy as np\n",
        "import seaborn as sns\n",
        "import tensorflow as tf\n",
        "\n",
        "from keras import layers\n",
        "from keras import models\n",
        "from IPython import display\n",
        "\n"
      ]
    },
    {
      "cell_type": "code",
      "execution_count": null,
      "metadata": {
        "colab": {
          "base_uri": "https://localhost:8080/",
          "height": 502
        },
        "id": "xMIvtPLYqxK5",
        "outputId": "efdfbefd-7d61-4046-d813-8499a3d92cec"
      },
      "outputs": [
        {
          "output_type": "display_data",
          "data": {
            "text/plain": [
              "\u001b[1mModel: \"sequential_24\"\u001b[0m\n"
            ],
            "text/html": [
              "<pre style=\"white-space:pre;overflow-x:auto;line-height:normal;font-family:Menlo,'DejaVu Sans Mono',consolas,'Courier New',monospace\"><span style=\"font-weight: bold\">Model: \"sequential_24\"</span>\n",
              "</pre>\n"
            ]
          },
          "metadata": {}
        },
        {
          "output_type": "display_data",
          "data": {
            "text/plain": [
              "┏━━━━━━━━━━━━━━━━━━━━━━━━━━━━━━━━━━━━━━┳━━━━━━━━━━━━━━━━━━━━━━━━━━━━━┳━━━━━━━━━━━━━━━━━┓\n",
              "┃\u001b[1m \u001b[0m\u001b[1mLayer (type)                        \u001b[0m\u001b[1m \u001b[0m┃\u001b[1m \u001b[0m\u001b[1mOutput Shape               \u001b[0m\u001b[1m \u001b[0m┃\u001b[1m \u001b[0m\u001b[1m        Param #\u001b[0m\u001b[1m \u001b[0m┃\n",
              "┡━━━━━━━━━━━━━━━━━━━━━━━━━━━━━━━━━━━━━━╇━━━━━━━━━━━━━━━━━━━━━━━━━━━━━╇━━━━━━━━━━━━━━━━━┩\n",
              "│ resizing_24 (\u001b[38;5;33mResizing\u001b[0m)               │ (\u001b[38;5;45mNone\u001b[0m, \u001b[38;5;34m32\u001b[0m, \u001b[38;5;34m32\u001b[0m, \u001b[38;5;34m1\u001b[0m)           │               \u001b[38;5;34m0\u001b[0m │\n",
              "├──────────────────────────────────────┼─────────────────────────────┼─────────────────┤\n",
              "│ normalization_24 (\u001b[38;5;33mNormalization\u001b[0m)     │ (\u001b[38;5;45mNone\u001b[0m, \u001b[38;5;34m32\u001b[0m, \u001b[38;5;34m32\u001b[0m, \u001b[38;5;34m1\u001b[0m)           │               \u001b[38;5;34m3\u001b[0m │\n",
              "├──────────────────────────────────────┼─────────────────────────────┼─────────────────┤\n",
              "│ conv2d_48 (\u001b[38;5;33mConv2D\u001b[0m)                   │ (\u001b[38;5;45mNone\u001b[0m, \u001b[38;5;34m30\u001b[0m, \u001b[38;5;34m30\u001b[0m, \u001b[38;5;34m32\u001b[0m)          │             \u001b[38;5;34m320\u001b[0m │\n",
              "├──────────────────────────────────────┼─────────────────────────────┼─────────────────┤\n",
              "│ conv2d_49 (\u001b[38;5;33mConv2D\u001b[0m)                   │ (\u001b[38;5;45mNone\u001b[0m, \u001b[38;5;34m28\u001b[0m, \u001b[38;5;34m28\u001b[0m, \u001b[38;5;34m64\u001b[0m)          │          \u001b[38;5;34m18,496\u001b[0m │\n",
              "├──────────────────────────────────────┼─────────────────────────────┼─────────────────┤\n",
              "│ max_pooling2d_25 (\u001b[38;5;33mMaxPooling2D\u001b[0m)      │ (\u001b[38;5;45mNone\u001b[0m, \u001b[38;5;34m14\u001b[0m, \u001b[38;5;34m14\u001b[0m, \u001b[38;5;34m64\u001b[0m)          │               \u001b[38;5;34m0\u001b[0m │\n",
              "├──────────────────────────────────────┼─────────────────────────────┼─────────────────┤\n",
              "│ dropout_51 (\u001b[38;5;33mDropout\u001b[0m)                 │ (\u001b[38;5;45mNone\u001b[0m, \u001b[38;5;34m14\u001b[0m, \u001b[38;5;34m14\u001b[0m, \u001b[38;5;34m64\u001b[0m)          │               \u001b[38;5;34m0\u001b[0m │\n",
              "├──────────────────────────────────────┼─────────────────────────────┼─────────────────┤\n",
              "│ flatten_24 (\u001b[38;5;33mFlatten\u001b[0m)                 │ (\u001b[38;5;45mNone\u001b[0m, \u001b[38;5;34m12544\u001b[0m)               │               \u001b[38;5;34m0\u001b[0m │\n",
              "├──────────────────────────────────────┼─────────────────────────────┼─────────────────┤\n",
              "│ dense_51 (\u001b[38;5;33mDense\u001b[0m)                     │ (\u001b[38;5;45mNone\u001b[0m, \u001b[38;5;34m128\u001b[0m)                 │       \u001b[38;5;34m1,605,760\u001b[0m │\n",
              "├──────────────────────────────────────┼─────────────────────────────┼─────────────────┤\n",
              "│ dropout_52 (\u001b[38;5;33mDropout\u001b[0m)                 │ (\u001b[38;5;45mNone\u001b[0m, \u001b[38;5;34m128\u001b[0m)                 │               \u001b[38;5;34m0\u001b[0m │\n",
              "├──────────────────────────────────────┼─────────────────────────────┼─────────────────┤\n",
              "│ dense_52 (\u001b[38;5;33mDense\u001b[0m)                     │ (\u001b[38;5;45mNone\u001b[0m, \u001b[38;5;34m8\u001b[0m)                   │           \u001b[38;5;34m1,032\u001b[0m │\n",
              "└──────────────────────────────────────┴─────────────────────────────┴─────────────────┘\n"
            ],
            "text/html": [
              "<pre style=\"white-space:pre;overflow-x:auto;line-height:normal;font-family:Menlo,'DejaVu Sans Mono',consolas,'Courier New',monospace\">┏━━━━━━━━━━━━━━━━━━━━━━━━━━━━━━━━━━━━━━┳━━━━━━━━━━━━━━━━━━━━━━━━━━━━━┳━━━━━━━━━━━━━━━━━┓\n",
              "┃<span style=\"font-weight: bold\"> Layer (type)                         </span>┃<span style=\"font-weight: bold\"> Output Shape                </span>┃<span style=\"font-weight: bold\">         Param # </span>┃\n",
              "┡━━━━━━━━━━━━━━━━━━━━━━━━━━━━━━━━━━━━━━╇━━━━━━━━━━━━━━━━━━━━━━━━━━━━━╇━━━━━━━━━━━━━━━━━┩\n",
              "│ resizing_24 (<span style=\"color: #0087ff; text-decoration-color: #0087ff\">Resizing</span>)               │ (<span style=\"color: #00d7ff; text-decoration-color: #00d7ff\">None</span>, <span style=\"color: #00af00; text-decoration-color: #00af00\">32</span>, <span style=\"color: #00af00; text-decoration-color: #00af00\">32</span>, <span style=\"color: #00af00; text-decoration-color: #00af00\">1</span>)           │               <span style=\"color: #00af00; text-decoration-color: #00af00\">0</span> │\n",
              "├──────────────────────────────────────┼─────────────────────────────┼─────────────────┤\n",
              "│ normalization_24 (<span style=\"color: #0087ff; text-decoration-color: #0087ff\">Normalization</span>)     │ (<span style=\"color: #00d7ff; text-decoration-color: #00d7ff\">None</span>, <span style=\"color: #00af00; text-decoration-color: #00af00\">32</span>, <span style=\"color: #00af00; text-decoration-color: #00af00\">32</span>, <span style=\"color: #00af00; text-decoration-color: #00af00\">1</span>)           │               <span style=\"color: #00af00; text-decoration-color: #00af00\">3</span> │\n",
              "├──────────────────────────────────────┼─────────────────────────────┼─────────────────┤\n",
              "│ conv2d_48 (<span style=\"color: #0087ff; text-decoration-color: #0087ff\">Conv2D</span>)                   │ (<span style=\"color: #00d7ff; text-decoration-color: #00d7ff\">None</span>, <span style=\"color: #00af00; text-decoration-color: #00af00\">30</span>, <span style=\"color: #00af00; text-decoration-color: #00af00\">30</span>, <span style=\"color: #00af00; text-decoration-color: #00af00\">32</span>)          │             <span style=\"color: #00af00; text-decoration-color: #00af00\">320</span> │\n",
              "├──────────────────────────────────────┼─────────────────────────────┼─────────────────┤\n",
              "│ conv2d_49 (<span style=\"color: #0087ff; text-decoration-color: #0087ff\">Conv2D</span>)                   │ (<span style=\"color: #00d7ff; text-decoration-color: #00d7ff\">None</span>, <span style=\"color: #00af00; text-decoration-color: #00af00\">28</span>, <span style=\"color: #00af00; text-decoration-color: #00af00\">28</span>, <span style=\"color: #00af00; text-decoration-color: #00af00\">64</span>)          │          <span style=\"color: #00af00; text-decoration-color: #00af00\">18,496</span> │\n",
              "├──────────────────────────────────────┼─────────────────────────────┼─────────────────┤\n",
              "│ max_pooling2d_25 (<span style=\"color: #0087ff; text-decoration-color: #0087ff\">MaxPooling2D</span>)      │ (<span style=\"color: #00d7ff; text-decoration-color: #00d7ff\">None</span>, <span style=\"color: #00af00; text-decoration-color: #00af00\">14</span>, <span style=\"color: #00af00; text-decoration-color: #00af00\">14</span>, <span style=\"color: #00af00; text-decoration-color: #00af00\">64</span>)          │               <span style=\"color: #00af00; text-decoration-color: #00af00\">0</span> │\n",
              "├──────────────────────────────────────┼─────────────────────────────┼─────────────────┤\n",
              "│ dropout_51 (<span style=\"color: #0087ff; text-decoration-color: #0087ff\">Dropout</span>)                 │ (<span style=\"color: #00d7ff; text-decoration-color: #00d7ff\">None</span>, <span style=\"color: #00af00; text-decoration-color: #00af00\">14</span>, <span style=\"color: #00af00; text-decoration-color: #00af00\">14</span>, <span style=\"color: #00af00; text-decoration-color: #00af00\">64</span>)          │               <span style=\"color: #00af00; text-decoration-color: #00af00\">0</span> │\n",
              "├──────────────────────────────────────┼─────────────────────────────┼─────────────────┤\n",
              "│ flatten_24 (<span style=\"color: #0087ff; text-decoration-color: #0087ff\">Flatten</span>)                 │ (<span style=\"color: #00d7ff; text-decoration-color: #00d7ff\">None</span>, <span style=\"color: #00af00; text-decoration-color: #00af00\">12544</span>)               │               <span style=\"color: #00af00; text-decoration-color: #00af00\">0</span> │\n",
              "├──────────────────────────────────────┼─────────────────────────────┼─────────────────┤\n",
              "│ dense_51 (<span style=\"color: #0087ff; text-decoration-color: #0087ff\">Dense</span>)                     │ (<span style=\"color: #00d7ff; text-decoration-color: #00d7ff\">None</span>, <span style=\"color: #00af00; text-decoration-color: #00af00\">128</span>)                 │       <span style=\"color: #00af00; text-decoration-color: #00af00\">1,605,760</span> │\n",
              "├──────────────────────────────────────┼─────────────────────────────┼─────────────────┤\n",
              "│ dropout_52 (<span style=\"color: #0087ff; text-decoration-color: #0087ff\">Dropout</span>)                 │ (<span style=\"color: #00d7ff; text-decoration-color: #00d7ff\">None</span>, <span style=\"color: #00af00; text-decoration-color: #00af00\">128</span>)                 │               <span style=\"color: #00af00; text-decoration-color: #00af00\">0</span> │\n",
              "├──────────────────────────────────────┼─────────────────────────────┼─────────────────┤\n",
              "│ dense_52 (<span style=\"color: #0087ff; text-decoration-color: #0087ff\">Dense</span>)                     │ (<span style=\"color: #00d7ff; text-decoration-color: #00d7ff\">None</span>, <span style=\"color: #00af00; text-decoration-color: #00af00\">8</span>)                   │           <span style=\"color: #00af00; text-decoration-color: #00af00\">1,032</span> │\n",
              "└──────────────────────────────────────┴─────────────────────────────┴─────────────────┘\n",
              "</pre>\n"
            ]
          },
          "metadata": {}
        },
        {
          "output_type": "display_data",
          "data": {
            "text/plain": [
              "\u001b[1m Total params: \u001b[0m\u001b[38;5;34m4,876,829\u001b[0m (18.60 MB)\n"
            ],
            "text/html": [
              "<pre style=\"white-space:pre;overflow-x:auto;line-height:normal;font-family:Menlo,'DejaVu Sans Mono',consolas,'Courier New',monospace\"><span style=\"font-weight: bold\"> Total params: </span><span style=\"color: #00af00; text-decoration-color: #00af00\">4,876,829</span> (18.60 MB)\n",
              "</pre>\n"
            ]
          },
          "metadata": {}
        },
        {
          "output_type": "display_data",
          "data": {
            "text/plain": [
              "\u001b[1m Trainable params: \u001b[0m\u001b[38;5;34m1,625,608\u001b[0m (6.20 MB)\n"
            ],
            "text/html": [
              "<pre style=\"white-space:pre;overflow-x:auto;line-height:normal;font-family:Menlo,'DejaVu Sans Mono',consolas,'Courier New',monospace\"><span style=\"font-weight: bold\"> Trainable params: </span><span style=\"color: #00af00; text-decoration-color: #00af00\">1,625,608</span> (6.20 MB)\n",
              "</pre>\n"
            ]
          },
          "metadata": {}
        },
        {
          "output_type": "display_data",
          "data": {
            "text/plain": [
              "\u001b[1m Non-trainable params: \u001b[0m\u001b[38;5;34m3\u001b[0m (16.00 B)\n"
            ],
            "text/html": [
              "<pre style=\"white-space:pre;overflow-x:auto;line-height:normal;font-family:Menlo,'DejaVu Sans Mono',consolas,'Courier New',monospace\"><span style=\"font-weight: bold\"> Non-trainable params: </span><span style=\"color: #00af00; text-decoration-color: #00af00\">3</span> (16.00 B)\n",
              "</pre>\n"
            ]
          },
          "metadata": {}
        },
        {
          "output_type": "display_data",
          "data": {
            "text/plain": [
              "\u001b[1m Optimizer params: \u001b[0m\u001b[38;5;34m3,251,218\u001b[0m (12.40 MB)\n"
            ],
            "text/html": [
              "<pre style=\"white-space:pre;overflow-x:auto;line-height:normal;font-family:Menlo,'DejaVu Sans Mono',consolas,'Courier New',monospace\"><span style=\"font-weight: bold\"> Optimizer params: </span><span style=\"color: #00af00; text-decoration-color: #00af00\">3,251,218</span> (12.40 MB)\n",
              "</pre>\n"
            ]
          },
          "metadata": {}
        },
        {
          "output_type": "stream",
          "name": "stdout",
          "text": [
            "None\n"
          ]
        }
      ],
      "source": [
        "import sys\n",
        "\n",
        "import numpy as np\n",
        "from keras import Model\n",
        "from keras import Layer\n",
        "\n",
        "def import_model(filepath: str) -> Model:\n",
        "    \"\"\"Load model from file\"\"\"\n",
        "    model: Model = models.load_model(filepath)\n",
        "    return model\n",
        "\n",
        "model = import_model('model_export.keras')\n",
        "print(model.summary())\n",
        "\n"
      ]
    },
    {
      "cell_type": "code",
      "execution_count": null,
      "metadata": {
        "id": "VwO54FcMW-12"
      },
      "outputs": [],
      "source": [
        "def get_layer_weights(layer: str, model: Model) -> list[np.ndarray]:\n",
        "    \"\"\"Get layer weights from given model\"\"\"\n",
        "    return model.get_layer(layer).get_weights()\n",
        "\n",
        "\n",
        "def get_weights_shape(layer: list[np.ndarray]):\n",
        "    tmp = []\n",
        "    for i in layer:\n",
        "        tmp.append(i.shape)\n",
        "    return tmp\n",
        "\n",
        "\n",
        "\n",
        "class DummyLayer(Layer):\n",
        "    def __init__(self):\n",
        "        super(DummyLayer, self).__init__()\n",
        "\n",
        "    def call(self, inputs):\n",
        "        return inputs\n",
        "\n",
        "def get_reference_layer(layer: str, model: Model):\n",
        "    \"\"\"Split the model in to three parts start, layer and rest.\n",
        "\n",
        "    Example:\n",
        "    ```python\n",
        "    model = import_model(\"../model/test_model.keras\")\n",
        "    (start, layer, end) = get_reference_layer(\"dense\", model)\n",
        "\n",
        "    result = start(waveform)\n",
        "    layer_result = layer(result)\n",
        "    print(layer_result)\n",
        "    ```\n",
        "    \"\"\"\n",
        "    modelStart = models.Sequential()\n",
        "    selectedLayer: Layer\n",
        "    modelEnd = models.Sequential()\n",
        "\n",
        "    start = True\n",
        "    l: Layer\n",
        "    for l in model.layers:\n",
        "        if l.name == layer:\n",
        "            start = False\n",
        "            selectedLayer = l\n",
        "            continue\n",
        "        if start:\n",
        "            modelStart.add(l)\n",
        "        else:\n",
        "            modelEnd.add(l)\n",
        "\n",
        "    if not len(modelStart.layers):\n",
        "        modelStart.add(DummyLayer())\n",
        "    if not len(modelEnd.layers):\n",
        "        modelEnd.add(DummyLayer())\n",
        "\n",
        "    modelStart.build(model.input_shape)\n",
        "    modelEnd.build(selectedLayer.output.shape)\n",
        "    return (modelStart, selectedLayer, modelEnd)\n",
        "\n"
      ]
    },
    {
      "cell_type": "code",
      "execution_count": null,
      "metadata": {
        "id": "rERnpFPJb_Lg",
        "colab": {
          "base_uri": "https://localhost:8080/"
        },
        "outputId": "c39d272a-7274-4d37-a59c-8168d23ef067"
      },
      "outputs": [
        {
          "output_type": "stream",
          "name": "stdout",
          "text": [
            "Downloading data from http://storage.googleapis.com/download.tensorflow.org/data/mini_speech_commands.zip\n",
            "\u001b[1m182082353/182082353\u001b[0m \u001b[32m━━━━━━━━━━━━━━━━━━━━\u001b[0m\u001b[37m\u001b[0m \u001b[1m4s\u001b[0m 0us/step\n"
          ]
        }
      ],
      "source": [
        "DATASET_PATH = 'data/mini_speech_commands_extracted/mini_speech_commands'\n",
        "\n",
        "data_dir = pathlib.Path(DATASET_PATH)\n",
        "if not data_dir.exists():\n",
        "  tf.keras.utils.get_file(\n",
        "      'mini_speech_commands.zip',\n",
        "      origin=\"http://storage.googleapis.com/download.tensorflow.org/data/mini_speech_commands.zip\",\n",
        "      extract=True,\n",
        "      cache_dir='.', cache_subdir='data')"
      ]
    },
    {
      "cell_type": "code",
      "execution_count": null,
      "metadata": {
        "id": "LlWiqVMambgu"
      },
      "outputs": [],
      "source": [
        "def get_spectrogram(waveform):\n",
        "  # Convert the waveform to a spectrogram via a STFT.\n",
        "  spectrogram = tf.signal.stft(\n",
        "      waveform, frame_length=255, frame_step=128)\n",
        "  # Obtain the magnitude of the STFT.\n",
        "  spectrogram = tf.abs(spectrogram)\n",
        "  # Add a `channels` dimension, so that the spectrogram can be used\n",
        "  # as image-like input data with convolution layers (which expect\n",
        "  # shape (`batch_size`, `height`, `width`, `channels`).\n",
        "  spectrogram = spectrogram[..., tf.newaxis]\n",
        "  return spectrogram\n",
        "\n"
      ]
    },
    {
      "cell_type": "code",
      "execution_count": 29,
      "metadata": {
        "colab": {
          "base_uri": "https://localhost:8080/",
          "height": 516
        },
        "id": "N6wuJ78WYGDE",
        "outputId": "f8f7b826-3e4b-4f9e-9ed3-ad84a7815c07"
      },
      "outputs": [
        {
          "output_type": "display_data",
          "data": {
            "text/plain": [
              "<Figure size 640x480 with 1 Axes>"
            ],
            "image/png": "[encoded data removed]"
          },
          "metadata": {}
        },
        {
          "output_type": "display_data",
          "data": {
            "text/plain": [
              "<IPython.lib.display.Audio object>"
            ],
            "text/html": [
              "\n",
              "                <audio  controls=\"controls\" >\n",
              "                    <source src=\"data:audio/wav;base64,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\" type=\"audio/wav\" />\n",
              "                    Your browser does not support the audio element.\n",
              "                </audio>\n",
              "              "
            ]
          },
          "metadata": {}
        }
      ],
      "source": [
        "x = data_dir/'no/01bb6a2a_nohash_0.wav'\n",
        "x = tf.io.read_file(str(x))\n",
        "x, sample_rate = tf.audio.decode_wav(x, desired_channels=1, desired_samples=16000,)\n",
        "x = tf.squeeze(x, axis=-1)\n",
        "waveform = x\n",
        "x = get_spectrogram(x)\n",
        "x = x[tf.newaxis,...]\n",
        "\n",
        "prediction = model(x)\n",
        "x_labels = ['down', 'go', 'left', 'no', 'right', 'stop', 'up', 'yes']\n",
        "plt.bar(x_labels, tf.nn.softmax(prediction[0]))\n",
        "plt.title('No')\n",
        "plt.show()\n",
        "\n",
        "display.display(display.Audio(waveform, rate=16000))"
      ]
    },
    {
      "cell_type": "code",
      "execution_count": 85,
      "metadata": {
        "id": "a62g_3CNfCQL"
      },
      "outputs": [],
      "source": [
        "# Muunnetaan kaikki sisään otettu tavallisiksi Python-listoiksi koska tässä taloudessa ei käytetä mitään\n",
        "# NumPyjä >:c\n",
        "\n",
        "def resize(data, width, height):\n",
        "  print(len(data), len(data[0]))\n",
        "\n",
        "  result = [[[0 for _ in range(len(data[0][0]))] for _ in range(height)] for _ in range(width)]\n",
        "  #print(len(result), len(result[0]), len(result[0][0]))\n",
        "\n",
        "  #Listojen suhteet\n",
        "  ratio_x = len(data) / width\n",
        "  ratio_y = len(data[0]) / height\n",
        "  print(ratio_x, ratio_y)\n",
        "\n",
        "  for i in range(width):\n",
        "    for j in range(height):\n",
        "      for k in range(len(data[0][0])):\n",
        "        # Koordinaatit lähimmille pikseleille alkuperäisessä kuvassa\n",
        "        low_x = int(ratio_x * i)\n",
        "        high_x = int(low_x + 1)\n",
        "        low_y = int(ratio_y * j)\n",
        "        high_y = int(low_y + 1)\n",
        "        # Etäisyydet x- ja y-akseleilla ylänurkasta uuden kuvan laskettavaan pikseliin\n",
        "\n",
        "        len_x1 = ((i + 0.5) * ratio_x) - (low_x + 0.5)\n",
        "        len_x2 = (high_x + 0.5) - ((i + 0.5) * ratio_x)\n",
        "        len_y1 = ((j + 0.5) * ratio_y) - (low_y + 0.5)\n",
        "        len_y2 = (high_y + 0.5) - ((j + 0.5) * ratio_y)\n",
        "\n",
        "        value = (data[low_x][low_y][k] * len_x2 * len_y2)\n",
        "        value += (data[low_x][high_y][k] * len_x2 * len_y1)\n",
        "        value += (data[high_x][low_y][k] * len_x1 * len_y2)\n",
        "        value += (data[high_x][high_y][k] * len_x1 * len_y1)\n",
        "        result[i][j][k] = value\n",
        "    print(result[i])\n",
        "\n",
        "  return result\n",
        "\n",
        "\n",
        "#resize(start_point, width, height)\n",
        "\n",
        "def normalize(data, weights):\n",
        "  #print(\"normal data \", data)\n",
        "  #print(\"data shape \", len(data), \" \", len(data[0]), \" \", len(data[0][0]))\n",
        "  #print(\"normal weights \", weights)\n",
        "  #print(\"nweights shape \", len(weights))\n",
        "\n",
        "  result = [[[0 for _ in range(len(data[0][0]))] for _ in range(len(data[0]))] for _ in range(len(data))]\n",
        "  #print(\"template \", len(result), \" \", len(result[0]), \" \", len(result[0][0]))\n",
        "\n",
        "  for i in range(len(result)):\n",
        "    for j in range(len(result[0])):\n",
        "      for k in range(len(result[0][0])):\n",
        "        result[i][j][k] += (data[i][j][k] - weights[0][0]) / (weights[1][0] ** 0.5)\n",
        "\n",
        "  return result\n",
        "\n",
        "\n",
        "def convolution(data, weights, bias):\n",
        "  #print(\"muoto\", len(data), \" \", len(data[0]), \" \", len(data[0][0]))\n",
        "  #print(\"painot \", len(weights), \" \", len(weights[0]), \" \", len(weights[0][0]), \" \", len(weights[0][0][0]))\n",
        "  #print(np.array(weights).shape)\n",
        "\n",
        "  result = [[[0 for _ in range(len(weights[0][0][0]))] for _ in range(len(data[0])-2)] for _ in range(len(data)-2)]\n",
        "  #print(\"muoto\", len(result), \" \", len(result[0]), \" \", len(result[0][0]))\n",
        "  #print(\"biakset \", len(bias))\n",
        "\n",
        "  # Kuvan x-akseli\n",
        "  for i in range(len(result)):\n",
        "    # Kuvan y-akseli\n",
        "    for j in range(len(result[0])):\n",
        "      # Filtterien määrä\n",
        "      for k in range(len(result[0][0])):\n",
        "        total = 0\n",
        "        # Kuvanipun paksuus\n",
        "        for n in range(len(data[0][0])):\n",
        "          # Filtterin x-akseli\n",
        "          for l in range(len(weights)):\n",
        "            # Filtterin y-akseli\n",
        "            for m in range(len(weights[0])):\n",
        "              total += data[i+l][j+m][n] * weights[l][m][n][k]\n",
        "        total = total + bias[k]\n",
        "        result[i][j][k] = total if total > 0 else 0\n",
        "\n",
        "  return result\n",
        "\n",
        "def maxpool(data):\n",
        "  #print(\"maxpool input \", data)\n",
        "  #print(\"type \", type(data))\n",
        "  print(\"muoto\", len(data), \" \", len(data[0]), \" \", len(data[0][0]))\n",
        "\n",
        "  result = [[[0 for _ in range(len(data[0][0]))] for _ in range(len(data[0])//2)] for _ in range(len(data)//2)]\n",
        "\n",
        "  print(len(result), \" \", len(result[0]), \" \", len(result[0][0]))\n",
        "\n",
        "  for i in range(0, len(data), 2):\n",
        "    for j in range(0, len(data[0]), 2):\n",
        "      for k in range (0, len(data[0][0])):\n",
        "        max = data[i][j][k]\n",
        "        max = data[i+1][j][k] if (max < data[i+1][j][k]) else max\n",
        "        max = data[i][j+1][k] if (max < data[i][j+1][k]) else max\n",
        "        max = data[i+1][j+1][k] if (max < data[i+1][j+1][k]) else max\n",
        "        result[i//2][j//2][k] = max\n",
        "\n",
        "  return result\n",
        "\n",
        "# Muunnetaan kaikki sisään otettu tavallisiksi Python-listoiksi koska tässä taloudessa ei käytetä mitään\n",
        "# NumPyjä >:c\n",
        "def listify(thing):\n",
        "  # Numpy-listat muunnetaan suoraan,\n",
        "  if isinstance(thing, np.ndarray):\n",
        "    result = thing.tolist()\n",
        "  # Tensorit pitää aluksi muuntaa numpy-listoiksi jotta tolist() toimii\n",
        "  elif isinstance(thing, tf.Tensor):\n",
        "    if thing.shape[0] == 1:\n",
        "      result = thing[0].numpy().tolist()\n",
        "    else:\n",
        "      result = thing.numpy().tolist()\n",
        "  # Muissa tilanteissa luovutetaan\n",
        "  else:\n",
        "    result = thing\n",
        "\n",
        "  return result\n",
        "\n",
        "\n",
        "# Kuvanipun siivutus\n",
        "def flatten(data):\n",
        "  # Nippu tulee 3D-listana, joten otetaan sivujen pituus ja käytetään niitä kierrosmäärän ja\n",
        "  # kokonaismäärän laskemiseen\n",
        "  num = 0\n",
        "  result = [0 for _ in range(len(data) * len(data[0]) * len(data[0][0]))]\n",
        "  for i in range(len(data)):\n",
        "    for j in range(len(data[0])):\n",
        "      for k in range(len(data[0][0])):\n",
        "        result[num] = data[i][j][k]\n",
        "        num += 1\n",
        "  return result\n",
        "\n",
        "\n",
        "# Listojen keskenään kerronta\n",
        "def matmul(data, weights, bias):\n",
        "  # Luodaan oikean mittainen lista tuloksille (otetaan tässä painoarvojen kakkosriviltä, joka vastaa\n",
        "  # seuraavan kierroksen neuronien määrää)\n",
        "  result = [0 for _ in range(len(weights[1]))]\n",
        "\n",
        "  # Jokaisen neuronin tulos: aiemman neuronikerroksen (data_array) tulokset kerrottuina painoilla, + lopussa bias päälle\n",
        "  for i in range(len(weights[0])):\n",
        "    dot_product = 0\n",
        "    for j in range(len(weights)):\n",
        "      dot_product += data[j] * weights[j][i]\n",
        "    #print(\"j round \", i, \" done\")\n",
        "    result[i] += bias[i] + dot_product\n",
        "\n",
        "  return result\n",
        "\n",
        "\n",
        "# Negatiivisten arvojen nollaus datassa\n",
        "def relu(data):\n",
        "  for i in range(len(data)):\n",
        "    if data[i] < 0:\n",
        "      data[i] = 0\n",
        "  return data\n",
        "\n",
        "\n",
        "# Neuronirivi 1 (relulla)\n",
        "def dense1(data, weights, bias):\n",
        "  result = matmul(data, weights, bias)\n",
        "  result = relu(result)\n",
        "  return result\n",
        "\n",
        "\n",
        "# Neuronirivi 2 (ilman relua, lopputulokset)\n",
        "def dense2(data, weights, bias):\n",
        "  result = matmul(data, weights, bias)\n",
        "  return result"
      ]
    },
    {
      "cell_type": "code",
      "execution_count": 86,
      "metadata": {
        "colab": {
          "base_uri": "https://localhost:8080/",
          "height": 1000
        },
        "id": "LAaV9-7cZlG-",
        "outputId": "b307fa1c-2011-4425-f555-e383a90ecd3a"
      },
      "outputs": [
        {
          "output_type": "stream",
          "name": "stdout",
          "text": [
            "124 129\n",
            "3.875 4.03125\n",
            "[[0.0], [0.0], [0.0], [0.0], [0.0], [0.0], [0.0], [0.0], [0.0], [0.0], [0.0], [0.0], [0.0], [0.0], [0.0], [0.0], [0.0], [0.0], [0.0], [0.0], [0.0], [0.0], [0.0], [0.0], [0.0], [0.0], [0.0], [0.0], [0.0], [0.0], [0.0], [0.0]]\n",
            "[[0.0], [0.0], [0.0], [0.0], [0.0], [0.0], [0.0], [0.0], [0.0], [0.0], [0.0], [0.0], [0.0], [0.0], [0.0], [0.0], [0.0], [0.0], [0.0], [0.0], [0.0], [0.0], [0.0], [0.0], [0.0], [0.0], [0.0], [0.0], [0.0], [0.0], [0.0], [0.0]]\n",
            "[[0.0], [0.0], [0.0], [0.0], [0.0], [0.0], [0.0], [0.0], [0.0], [0.0], [0.0], [0.0], [0.0], [0.0], [0.0], [0.0], [0.0], [0.0], [0.0], [0.0], [0.0], [0.0], [0.0], [0.0], [0.0], [0.0], [0.0], [0.0], [0.0], [0.0], [0.0], [0.0]]\n",
            "[[0.0], [0.0], [0.0], [0.0], [0.0], [0.0], [0.0], [0.0], [0.0], [0.0], [0.0], [0.0], [0.0], [0.0], [0.0], [0.0], [0.0], [0.0], [0.0], [0.0], [0.0], [0.0], [0.0], [0.0], [0.0], [0.0], [0.0], [0.0], [0.0], [0.0], [0.0], [0.0]]\n",
            "[[0.0], [0.0], [0.0], [0.0], [0.0], [0.0], [0.0], [0.0], [0.0], [0.0], [0.0], [0.0], [0.0], [0.0], [0.0], [0.0], [0.0], [0.0], [0.0], [0.0], [0.0], [0.0], [0.0], [0.0], [0.0], [0.0], [0.0], [0.0], [0.0], [0.0], [0.0], [0.0]]\n",
            "[[0.0], [0.0], [0.0], [0.0], [0.0], [0.0], [0.0], [0.0], [0.0], [0.0], [0.0], [0.0], [0.0], [0.0], [0.0], [0.0], [0.0], [0.0], [0.0], [0.0], [0.0], [0.0], [0.0], [0.0], [0.0], [0.0], [0.0], [0.0], [0.0], [0.0], [0.0], [0.0]]\n",
            "[[0.0], [0.0], [0.0], [0.0], [0.0], [0.0], [0.0], [0.0], [0.0], [0.0], [0.0], [0.0], [0.0], [0.0], [0.0], [0.0], [0.0], [0.0], [0.0], [0.0], [0.0], [0.0], [0.0], [0.0], [0.0], [0.0], [0.0], [0.0], [0.0], [0.0], [0.0], [0.0]]\n",
            "[[0.0], [0.0], [0.0], [0.0], [0.0], [0.0], [0.0], [0.0], [0.0], [0.0], [0.0], [0.0], [0.0], [0.0], [0.0], [0.0], [0.0], [0.0], [0.0], [0.0], [0.0], [0.0], [0.0], [0.0], [0.0], [0.0], [0.0], [0.0], [0.0], [0.0], [0.0], [0.0]]\n",
            "[[0.0033205752874891914], [0.00035777856120944307], [-2.6388325153448022e-05], [0.00029128412298007333], [0.0001558217398738293], [0.0002503681307075567], [8.443047758532884e-05], [0.0006722824286953255], [-0.00010955944453172606], [0.00034683569639071266], [-0.00018626469388749456], [0.001213825950685532], [0.0006134609398600332], [0.0002381031315223936], [0.0015522051810421544], [0.0006472832573365395], [0.0015842099535348098], [0.0012350030851138172], [0.0007414146685817968], [0.000835469645622311], [0.0006846893448653191], [0.0012374591619135344], [0.0015037408429634525], [0.0008863197905952802], [0.0015147196875204827], [0.0012196346880841702], [-0.0007998553949448706], [0.00017121462757785366], [0.0005887217571753922], [0.00015651357391277543], [-2.6968704180063696e-05], [-0.0001136926377149905]]\n",
            "[[0.005246668790668707], [0.0014548229230015863], [-0.0006317342518684654], [0.0005098662685085742], [-0.00029187032510691324], [0.0005139673088905283], [-1.590372978199639e-05], [0.0004506800576535852], [0.0007883932281274042], [0.0012919841051530767], [0.00043645695555483144], [0.0006584514481424719], [0.00035165696401406876], [-0.0013292861736715622], [0.0012608985723829846], [-6.539128527549565e-06], [-0.001192077582306439], [0.00011139523957126585], [0.001471797448431289], [0.0012078656087197714], [0.0006433652338557749], [-0.0010125950038570863], [0.0010571990452490354], [-0.0011652444822516372], [0.002070243920343273], [-0.00014084109013978718], [0.0004064430460175572], [-0.0010175351768424434], [-0.00020400015844757036], [-3.834414197001479e-05], [0.0003900009894617362], [0.0005557191702969533]]\n",
            "[[0.000630706386800739], [-0.0007527952703227925], [0.00044537883358231056], [-7.850843581991285e-05], [8.588632144324038e-05], [0.00022178994105459537], [5.8423831234222234e-05], [8.86682560690133e-05], [2.9870087431049797e-05], [9.745218880752304e-05], [-0.0001720304702743647], [2.087546113926919e-05], [6.4246953730418e-06], [-5.470771751170389e-05], [7.48453527243953e-05], [-7.16505745019802e-05], [6.241912597459987e-05], [3.667148892283478e-05], [6.753578798424087e-05], [-1.8169691795577592e-06], [7.627681646482642e-05], [-2.609374256223873e-05], [2.9675903920889368e-05], [3.993563880122508e-05], [3.475389834584064e-06], [4.966661447802778e-05], [8.056451664906206e-06], [-6.391018330287324e-05], [9.832627592487597e-05], [8.2794798679231e-06], [-1.3131726245063646e-05], [-2.495063421825705e-05]]\n",
            "[[0.0006941422838053768], [0.0010765727761281596], [-0.00012840981804629337], [-0.0003545096739401288], [-0.0003410838531863192], [0.0003908258111664509], [0.0008245407911999791], [-0.00018300165708495797], [-8.057667450600547e-05], [0.0009251325018482248], [3.720011082464225e-05], [0.0016812879344456633], [-0.0010680756381589163], [0.0064800387869752285], [0.006413122717390252], [0.0027314959399973304], [0.012246936260908114], [0.009410841508724843], [0.004383160886050064], [0.0042075802516592375], [-0.00033164571264876486], [-0.000550198211328734], [0.0034721226895157997], [7.542028674834e-05], [0.005184299310258211], [0.008565573258920267], [0.0031615943107681233], [0.002778052196617864], [0.001733197542336029], [0.0005721677170491546], [0.00023521063285159016], [3.677036727367522e-05]]\n",
            "[[0.0011102922259169645], [0.00020448706876408096], [0.0001966246556008855], [0.00018394150565548273], [0.0001708350144387083], [0.0001527525671889407], [0.00013359437401838647], [0.00011237397629315637], [9.008825775413953e-05], [6.788026080695175e-05], [4.56880108581359e-05], [2.4856482711221872e-05], [5.490250108763917e-06], [1.1063412483913737e-05], [2.5565075804312443e-05], [3.70551787955975e-05], [4.521882043162506e-05], [5.019420246510364e-05], [5.192620046035046e-05], [5.058051088369098e-05], [4.6510791507969884e-05], [3.999850679203831e-05], [3.159192674484501e-05], [2.1763990391221455e-05], [1.1082279527174776e-05], [1.468022499118149e-07], [1.0220882403322307e-05], [1.9958620811832972e-05], [2.830681324272888e-05], [3.487098913490527e-05], [3.932993579436328e-05], [4.146792058845605e-05]]\n",
            "[[-0.0005869175403176996], [0.0005341718077644941], [0.0006025441551713584], [-0.0002024340562911675], [-7.392529740002374e-05], [3.54685140244726e-05], [-0.00015764464381895493], [-7.714044632223249e-05], [-3.086770876059575e-05], [0.00016828562751491916], [0.00014455944309332835], [4.057638614707315e-05], [0.00014637622445889953], [0.00014450239443775104], [1.217786932805609e-05], [-3.3428486481135167e-06], [5.8157154189331095e-05], [-1.2232261424216517e-05], [7.90820188996122e-05], [0.00011325696845077005], [7.94281689722176e-05], [-1.6003279732501596e-06], [4.510565312720871e-05], [0.00011463960203883516], [0.00010733072139545996], [5.411518328557463e-05], [8.17965584465341e-05], [1.9620370403927723e-05], [6.985490431965502e-05], [0.00015742675480368007], [0.00010769614405692352], [-9.868394919942958e-05]]\n",
            "[[0.0], [0.0], [0.0], [0.0], [0.0], [0.0], [0.0], [0.0], [0.0], [0.0], [0.0], [0.0], [0.0], [0.0], [0.0], [0.0], [0.0], [0.0], [0.0], [0.0], [0.0], [0.0], [0.0], [0.0], [0.0], [0.0], [0.0], [0.0], [0.0], [0.0], [0.0], [0.0]]\n",
            "[[0.0016949245048181183], [0.00036939758092557895], [0.0012130359870070606], [1.3374783705444315e-05], [0.0008075291131248719], [0.0007008617902570791], [0.0006174788347550475], [0.00032792806393189267], [0.0007937225507106405], [8.068524948612321e-05], [0.00036882271842841874], [9.682621286799531e-05], [-0.0002952624195131648], [6.858883274674099e-05], [0.00042336223111760773], [-8.412866733920055e-06], [0.0010233976662732402], [-0.00030369961411480517], [0.000272210957977137], [0.001013136414684368], [-3.585311543474745e-05], [0.0010272210502009216], [0.0020215220700663394], [0.00017142019750338022], [2.905035429634495e-05], [-0.0006336260389119275], [2.5425810477486266e-05], [-0.00018069320181268722], [-0.0005416300051805933], [0.0001495355576182078], [0.00014841004836085858], [0.0003288593542620788]]\n",
            "[[0.21108418489529868], [0.0328890871060139], [0.050738632510729076], [0.01043827326405733], [-0.0008062591261932539], [0.0024885869298429952], [0.0025642650502391007], [0.001165507456960313], [0.0012091236068272337], [0.0001503142756860143], [-0.0015429304815768319], [0.002058143548708813], [0.0003730413928622056], [-0.0005403526393727986], [0.00040506323681199774], [0.0006720768323162929], [0.0008773540354809484], [0.0012537872688938023], [0.0009420636813608496], [0.00043019639988273184], [-0.0003226385797461262], [-0.00014530184186156703], [0.00017875197134742393], [0.0005746760338709578], [0.00034636087069728205], [0.0003052873547346735], [-0.00042848009090334926], [-0.00026929027733757493], [-0.00013568213893222492], [0.00018285419098162947], [0.0002505605052576243], [9.406278433932158e-05]]\n",
            "[[0.37928680284085203], [0.5407384643913247], [-0.02954459942156973], [0.048701016708946554], [0.021522098055356764], [0.07300393775767589], [0.0002377429302669043], [-0.00013888457462485349], [0.01276564386625978], [0.010671615185856353], [-0.010201595702028499], [-0.005163838854286951], [0.011411316964426987], [0.0007562008226500438], [0.0035325822797176443], [0.017663710195279236], [0.0025375097112600997], [0.01004737648054288], [0.00012643110130738933], [0.0002698722516072394], [0.002854819670609743], [-0.0006854345340912005], [0.001744784033292035], [-0.0018613543157357526], [0.0004293540173279098], [-0.0003971669610649542], [0.0017157554421771692], [0.00024499171135516917], [-0.002121115918697569], [0.0005571387535923122], [0.0001330712600342565], [-7.604245567804924e-05]]\n",
            "[[0.6109060511553253], [0.9288533868966624], [0.16108069599431474], [0.013835606070642825], [-0.015650856694264803], [0.031198502786537574], [0.019819907426153804], [0.01621332767263084], [0.024169845899450593], [0.007860178095143056], [-0.007084778834723693], [-0.007721528657384624], [-0.022038006547518307], [0.002483287126722189], [0.010845336229976965], [0.02896150398419195], [0.015947546137340396], [0.006251096306868931], [0.008468709429592991], [0.0006117452565490566], [0.0030379722415432298], [0.02006863061160402], [0.003085935999706635], [0.0033852472636226594], [-0.001448068199294994], [0.0045070254898860185], [0.002271386342457049], [0.0029556039073384], [0.0027423914951469897], [-0.0010444947717545006], [-0.00028872378457478476], [5.307001897492114e-05]]\n",
            "[[0.44053710979642347], [-0.6611045205499977], [0.12917667525471188], [0.0963486869695771], [0.056807016175298486], [0.009355955104183522], [-0.020387745159496262], [0.017120875694786264], [0.011826897859918972], [0.016557669251596963], [0.004111319450203155], [0.02680655427707279], [0.031087389342019378], [0.0021692005288969085], [0.01141692306555342], [-0.00861574167197432], [0.00048466497401022934], [0.012255055845798779], [-0.0012837677703601003], [0.003404880669194199], [0.000890280745693417], [0.008515185028500127], [-0.0022223379162369383], [0.006345829897071553], [-0.0003937484812013281], [0.005732867445885859], [0.004261551205900105], [0.005064112594368453], [0.000316696060295385], [-0.0006771662212372576], [-0.0014754576192217428], [-0.0001698917860437632]]\n",
            "[[0.44360851949750213], [2.740551755297929], [0.5320094212365802], [-0.028806480520870537], [0.17648305116017582], [0.39732595216628397], [0.05728958717736532], [0.012103225275495788], [0.009734064625263272], [-0.009435596982712013], [-0.04006761926893887], [0.06907242740271613], [0.0922423042684386], [0.1321566563565284], [0.447873005978181], [0.41184656144469045], [0.1895720313386846], [-0.025150871572805045], [0.022056965949559526], [-0.02450959686666465], [0.22050041455804603], [0.03546465834006085], [0.04621399598909193], [-0.005229446673183702], [0.0425956228045834], [-0.005210870007431367], [-0.02475948563642305], [0.011466515539268585], [-0.0004429287607763399], [0.010932395742486278], [0.0012758620787849395], [-2.9123628848992666e-05]]\n",
            "[[0.36081547372668865], [1.6363724624970928], [1.021213889529463], [0.8628769165661652], [0.42379595516831614], [0.011618675125646405], [0.08717345879267668], [0.006176128448259988], [0.02008971551185823], [-0.0016417061005995492], [0.005019317500227771], [0.001785981019565952], [-0.047026617321535014], [-0.002367812599914032], [0.19133043573674513], [-0.0540456570229253], [0.02547932429206412], [0.006667155727541285], [-0.004156609027916147], [0.009885423135528981], [0.05778685677796602], [-0.012601562206782546], [0.06674853829917993], [-0.020902897965697775], [0.017330251943917574], [-0.0024313733395047166], [0.043620111624022684], [0.003459461093370919], [-0.0008774941504157141], [-0.001809506719212095], [-0.0009393137858211276], [0.0004183910826061066]]\n",
            "[[0.4177022223593667], [1.4692982055712491], [1.974097350073862], [0.3109387542208424], [0.5661394621565705], [-0.01418574214039836], [0.06342824148669024], [-0.02987775981193863], [0.04468506245257231], [-0.00447192874889879], [0.004700860735169954], [0.05634893421006382], [0.016389852677093586], [0.045935436360196036], [0.2074486933161097], [0.02710101301272516], [-0.003173438219619129], [-0.00527753470873904], [0.012078683670779355], [0.02266287316388116], [0.017687151218524377], [0.0060862314733185485], [0.08241228911992948], [0.017822824587938157], [0.0004259252614247089], [-0.005308870857561487], [0.00019194009564671433], [2.327968195459107e-05], [0.00010788368308567442], [0.0019053726975641894], [6.876558335022764e-05], [0.00016105237941843598]]\n",
            "[[0.7362800071532547], [1.656650296645239], [1.4350938273128122], [0.8199038400198333], [0.47769648890243843], [-0.0008181106095435098], [0.014908709863448166], [0.029683255483178073], [0.015623152840817056], [0.003756712645326843], [0.013844212324329419], [0.005768485702901671], [0.015204298622848], [0.03466616977857484], [-0.03907074217113404], [0.034709027324424824], [0.0023933043034958246], [0.0013217484925007739], [-0.0008416128807766654], [0.012520197770754748], [-0.002295904690072348], [0.038398890551434306], [0.03163122303521959], [0.00011730069400073262], [0.0026690117379075673], [0.001079053865169044], [-0.0012647148452629153], [0.0003237185197946246], [-0.0002885369856358011], [-0.0014083821035697497], [-0.00017048891174198388], [9.19157198993048e-05]]\n",
            "[[0.8719857257910917], [1.120625730836764], [0.4811079800128937], [0.7675949558033608], [-0.2436694318021182], [0.014880960727168713], [0.027202908503568324], [0.03900994239575084], [0.019429602372838417], [0.011424708412050677], [0.0032139776931217057], [0.01245538008697622], [0.03006946722507564], [0.06467561593672144], [0.03286701105753309], [0.0018682337240534252], [0.022762551299592815], [0.01410017601938307], [0.013595320453759996], [0.006983121314078744], [-0.009741061322529276], [0.024577557045631693], [-0.041202362212061416], [0.00023475799298466882], [0.012336759882941806], [-0.005729661213536019], [0.018479705671325064], [0.008954754223509553], [0.0010374897039469033], [-4.420660863502235e-05], [-3.773783774363437e-05], [8.947110419654791e-06]]\n",
            "[[0.8804602289001195], [1.248024889442604], [1.6379115412710235], [1.8996992738102563], [0.10938875968713546], [0.038933649062528275], [0.11245377848536009], [0.07923467764794623], [0.023542345636087703], [0.03652954924837104], [-0.02620887626790136], [0.027664595800274583], [0.01601718907841132], [0.04453566107622464], [-0.18994217199542618], [0.03741054185593384], [-0.01349961404048372], [-0.0014518082974745994], [0.0021271038156100985], [0.0036155552444370187], [-0.003986225487096817], [0.008328759750838799], [0.04492927569526728], [-0.017043076301433757], [-0.005010459451796123], [0.0012451072952899267], [0.013188745227353138], [0.011218640455183504], [-0.0011955567538279865], [-0.000984622954362635], [0.0010652550957388485], [-0.0001548243763824786]]\n",
            "[[0.6401572474642307], [0.8280797488405369], [0.12218924704939127], [0.02009466863819398], [0.10174253883451456], [-0.0013222193520050496], [0.06874541352681263], [0.07730431295385642], [-0.04467361960996641], [0.010068724747725355], [0.04506418856090022], [-0.00030224750776142173], [-0.008128470019528322], [-0.012645664317460614], [-0.004422224363224814], [0.007944936920466716], [0.006231299352009501], [0.000625673150352668], [-0.0005915324718444026], [0.01467636480629153], [0.015757161388705754], [0.0129127682471335], [0.017867708803123605], [0.0020559114576599313], [0.002743046207115185], [-0.0004891817225143313], [-0.008917697475339992], [-0.003996688226536094], [0.0014131785029007915], [-0.0005824949222983378], [0.0007413818848860387], [0.00034840412735093196]]\n",
            "[[-0.0951626074493106], [-1.827172866644105], [0.7497062783222646], [-0.36789844010490924], [-0.05288477526391944], [0.043656150207425526], [-0.003980259502441186], [0.02493283103376598], [-0.013010476737235876], [0.005867886159649061], [0.0015796005807260372], [-0.003347410472088086], [0.005592329571072696], [0.010084619692634078], [0.002320101500572491], [0.001056012959452346], [0.002899833398601004], [-0.02162350378011979], [0.004419839961428806], [0.0002372715161271799], [0.005997355362410417], [0.004225519560009161], [-0.00026965646580379143], [-0.0023351872106900373], [0.0024622070006898866], [0.0018004162526281675], [0.0012133889028405065], [0.00334650013803639], [-0.0008628863024853217], [-0.000834904681802584], [5.183990182899834e-06], [0.00011356542080775966]]\n",
            "[[0.21425901680004245], [0.008119182588416152], [-0.022890772384926095], [0.007977943776495522], [0.0008674973158804278], [-0.008763125784867043], [0.002318436735151863], [-0.0002943364432042017], [1.1673359495034674e-05], [-0.0037486642750081955], [3.649986661002913e-05], [0.0017070833356456205], [0.002690610981062491], [0.006843233641461666], [-0.0009997871947007297], [-0.0036492161652859068], [-0.0026893469731135156], [0.00029113770858657517], [0.0022920098436429726], [0.0007402819595370147], [0.0007968376078224537], [-0.000129313931552133], [-0.0007472779896176007], [0.0005742714628240719], [0.00042123394548809756], [0.0019122973465250936], [-0.0005122639598766909], [0.00016589353529639084], [-0.0006666720558570205], [0.000582799546265278], [-3.543510825565477e-05], [-0.00015193755804432385]]\n",
            "[[-0.008410848234916557], [0.0018335042539092683], [-0.0016784897684942734], [0.0010381207500813616], [0.00041915072847587], [-0.0001899474163025161], [0.0005086003221208557], [0.0011863311314925795], [0.0001221549530896482], [0.0003791673370017179], [0.0004965518697588323], [0.00031431342084431435], [-2.2052979609554768e-05], [3.204291695269035e-05], [5.091278563895685e-05], [0.000505329703884172], [0.0001729330839168597], [-0.00033255175809898674], [-3.907921865220487e-06], [-0.00032146530595866807], [0.000515828218553338], [-6.58967011517575e-05], [-0.00010240215320322932], [0.0002944294115607704], [0.00016262164861302608], [0.0002473608842166186], [0.00037692971095282246], [7.47442841699808e-05], [0.00039303571648474644], [3.807341333583736e-05], [-0.00029027910912304833], [5.116797154869346e-07]]\n",
            "[[0.0016451931494430028], [0.0009427407663338272], [4.320071924723834e-05], [-0.00011291316237205251], [-4.867331895042071e-05], [0.00015557926674603095], [0.0003644223310175221], [0.00031983653533274037], [0.00010794346208342631], [-1.565072494713604e-05], [-8.072870585351666e-07], [1.065033351466127e-05], [-5.018055296091006e-05], [-5.7650894934369035e-05], [0.00013171662493327574], [-1.619256692109161e-05], [4.344937952716066e-05], [-0.0001686966522118638], [0.0001807023148785447], [3.291602906685398e-05], [3.987642114466894e-05], [-4.237189977285283e-05], [-7.17583834344282e-05], [3.0844893910142446e-05], [1.797212721754704e-05], [0.0002298825384148273], [0.00012281338654318574], [5.5044549082339245e-05], [8.470551872008514e-05], [-2.9782157655589003e-05], [0.00011159040492980665], [-4.457031920424015e-06]]\n",
            "[[0.003873116207842031], [0.0008409754367164624], [-0.00013177960897792218], [5.7244653760335495e-05], [7.146028551119343e-05], [-4.076058784718839e-05], [0.00014012509122096617], [-7.594640264096952e-05], [0.00012168015617497474], [8.693011292137953e-05], [6.136271849754849e-05], [2.1168701445972715e-05], [-3.352577193993511e-05], [7.214734577232207e-05], [4.4762051100377676e-05], [3.291798893201303e-05], [4.5459099352385124e-05], [1.3913900541062674e-05], [5.344994067463249e-05], [5.073129351895744e-05], [-1.138879051509889e-06], [8.000079764869383e-06], [-1.2361374668756753e-05], [5.126159853663381e-05], [3.250400139087617e-05], [4.33399011043889e-05], [-2.107562856057399e-05], [-2.6473862411613425e-05], [5.694350425278216e-05], [4.908605758480178e-05], [2.1178964086487895e-05], [1.4040604725984451e-05]]\n",
            "\n",
            "[[0.0], [0.0], [0.0], [0.0], [0.0], [0.0], [0.0], [0.0], [0.0], [0.0], [0.0], [0.0], [0.0], [0.0], [0.0], [0.0], [0.0], [0.0], [0.0], [0.0], [0.0], [0.0], [0.0], [0.0], [0.0], [0.0], [0.0], [0.0], [0.0], [0.0], [0.0], [0.0]]\n",
            "[[0.0], [0.0], [0.0], [0.0], [0.0], [0.0], [0.0], [0.0], [0.0], [0.0], [0.0], [0.0], [0.0], [0.0], [0.0], [0.0], [0.0], [0.0], [0.0], [0.0], [0.0], [0.0], [0.0], [0.0], [0.0], [0.0], [0.0], [0.0], [0.0], [0.0], [0.0], [0.0]]\n",
            "[[0.0], [0.0], [0.0], [0.0], [0.0], [0.0], [0.0], [0.0], [0.0], [0.0], [0.0], [0.0], [0.0], [0.0], [0.0], [0.0], [0.0], [0.0], [0.0], [0.0], [0.0], [0.0], [0.0], [0.0], [0.0], [0.0], [0.0], [0.0], [0.0], [0.0], [0.0], [0.0]]\n",
            "[[0.0], [0.0], [0.0], [0.0], [0.0], [0.0], [0.0], [0.0], [0.0], [0.0], [0.0], [0.0], [0.0], [0.0], [0.0], [0.0], [0.0], [0.0], [0.0], [0.0], [0.0], [0.0], [0.0], [0.0], [0.0], [0.0], [0.0], [0.0], [0.0], [0.0], [0.0], [0.0]]\n",
            "[[0.0], [0.0], [0.0], [0.0], [0.0], [0.0], [0.0], [0.0], [0.0], [0.0], [0.0], [0.0], [0.0], [0.0], [0.0], [0.0], [0.0], [0.0], [0.0], [0.0], [0.0], [0.0], [0.0], [0.0], [0.0], [0.0], [0.0], [0.0], [0.0], [0.0], [0.0], [0.0]]\n",
            "[[0.0], [0.0], [0.0], [0.0], [0.0], [0.0], [0.0], [0.0], [0.0], [0.0], [0.0], [0.0], [0.0], [0.0], [0.0], [0.0], [0.0], [0.0], [0.0], [0.0], [0.0], [0.0], [0.0], [0.0], [0.0], [0.0], [0.0], [0.0], [0.0], [0.0], [0.0], [0.0]]\n",
            "[[0.0], [0.0], [0.0], [0.0], [0.0], [0.0], [0.0], [0.0], [0.0], [0.0], [0.0], [0.0], [0.0], [0.0], [0.0], [0.0], [0.0], [0.0], [0.0], [0.0], [0.0], [0.0], [0.0], [0.0], [0.0], [0.0], [0.0], [0.0], [0.0], [0.0], [0.0], [0.0]]\n",
            "[[5.46774515441939e-07], [5.456623739519273e-07], [5.432834200291836e-07], [5.396444748839713e-07], [5.347559408619418e-07], [5.28631744600716e-07], [5.212893370298843e-07], [5.127498639012629e-07], [5.030383931625693e-07], [4.921834033666528e-07], [4.802174089491018e-07], [4.6717676127627783e-07], [4.531021886577946e-07], [4.3803856897284277e-07], [4.220354696826689e-07], [4.051476878430549e-07], [3.874352785260271e-07], [3.689657432914828e-07], [3.498154796943709e-07], [3.3006975286298257e-07], [3.098269303336565e-07], [2.892014947519783e-07], [2.68330467179112e-07], [2.473818199177913e-07], [2.265674510226745e-07], [2.0616224105651781e-07], [1.8653244637789612e-07], [1.6817456582884915e-07], [1.517616396995436e-07], [1.3817502519941627e-07], [1.2846456343140744e-07], [1.2364816370791232e-07]]\n",
            "[[0.0021435508970171213], [0.000484681804664433], [0.0002967541804537177], [0.00018888547492679209], [0.0001546254934510216], [0.0003329652827233076], [0.00020723439229186624], [0.000316028599627316], [0.00014466862194240093], [0.00019255588995292783], [0.00038454111199826], [0.0003941088216379285], [0.0006234481697902083], [0.0005222331965342164], [0.0004496057517826557], [0.0004387253720778972], [0.00037661907845176756], [0.00043222770909778774], [0.00026814479497261345], [0.00037650781450793147], [0.0003716045757755637], [0.0006926702335476875], [0.001455330871976912], [0.0006404153537005186], [0.000653349154163152], [0.0007124849944375455], [0.00040807705954648554], [0.00039272435242310166], [0.000249961216468364], [0.00034405424958094954], [0.0001126792558352463], [7.197203376563266e-05]]\n",
            "[[0.0009498656145296991], [0.00029012589948251843], [9.257719648303464e-05], [0.00016270324704237282], [0.00012384081492200494], [0.0002392361784586683], [0.0001757557620294392], [0.00011592477676458657], [9.183705697068945e-05], [0.00010800585005199537], [0.00010563438991084695], [0.0001013982473523356], [0.00016082823276519775], [0.00012032873200951144], [9.027034684550017e-05], [0.00016705194138921797], [8.834082836983725e-05], [5.823553874506615e-05], [8.30566423246637e-05], [9.371389023726806e-05], [8.8284577941522e-05], [8.817767957225442e-05], [4.8239220632240176e-05], [0.0001039796115946956], [4.0580107452115044e-05], [2.7933860110351816e-05], [6.690924055874348e-05], [2.482125273672864e-05], [5.780110222985968e-05], [2.8726797609124333e-05], [5.1326383982086554e-05], [2.75404399872059e-05]]\n",
            "[[0.0008827255223877728], [0.00020323354692663997], [0.00017605423636268824], [0.00011761461064452305], [7.386119978036731e-05], [6.534100248245522e-05], [4.37542621511966e-05], [7.178443047450855e-05], [9.481653978582472e-05], [6.868992932140827e-05], [8.233485277742147e-05], [3.923937038052827e-05], [7.156387437134981e-05], [3.130008190055378e-05], [5.1704857469303533e-05], [8.655073179397732e-05], [3.911193198291585e-05], [6.147573003545403e-05], [5.6021552154561505e-05], [0.00014514767099171877], [8.414186595473439e-05], [0.00016922745271585882], [5.97733014728874e-05], [0.0001032667641993612], [0.0001697021070867777], [0.00017930471221916378], [0.00018667819676920772], [0.00010707445471780375], [3.3734315366018564e-05], [3.053246109629981e-05], [3.2119951356435195e-05], [3.3045253076124936e-05]]\n",
            "[[0.0014846057165414095], [0.00028101541101932526], [0.00047035765601322055], [0.00030128948856145144], [0.0003138655738439411], [0.00020097554079256952], [0.00012516844435594976], [0.00016488930850755423], [4.091241498827003e-05], [0.00045625175698660314], [0.0004917395417578518], [0.00033789605367928743], [0.0005166265182197094], [0.0005280073964968324], [0.00036292255390435457], [0.0008289815159514546], [0.00032789597753435373], [0.0003040478623006493], [0.00043581987847574055], [0.0006912961835041642], [0.00024123874027282], [8.073473873082548e-05], [0.0003014937974512577], [0.00040203440585173666], [0.00015412538778036833], [7.922172517282888e-05], [0.00018584054487291723], [0.00020252649846952409], [0.00021521914459299296], [0.00015563331544399261], [9.687448618933558e-05], [8.862536924425513e-05]]\n",
            "[[0.0011879969388246536], [0.00023695176059845835], [7.339991861954331e-05], [0.00015677150804549456], [9.515583224128932e-05], [9.932122338796034e-05], [0.00010456245945533738], [5.882307959836908e-05], [8.961413550423458e-05], [2.3948818125063553e-05], [7.963542884681374e-05], [2.241485344711691e-05], [6.345066503854468e-05], [2.9460481528076343e-05], [5.009073356632143e-05], [4.3528791138669476e-05], [4.157957300776616e-05], [4.440392876858823e-05], [2.456465153954923e-05], [4.6598914195783436e-05], [1.5336723663494922e-05], [4.530831938609481e-05], [1.1660360542009585e-05], [3.859648131765425e-05], [2.0850282453466207e-05], [3.231610025977716e-05], [2.586589107522741e-05], [1.9913022697437555e-05], [2.6113324565812945e-05], [9.068940926226787e-06], [1.7030582966981456e-05], [9.383951692143455e-06]]\n",
            "[[0.00029714906122535467], [0.0001828851964091882], [0.000139226031024009], [7.803828339092433e-05], [3.947666482417844e-05], [2.1094288968015462e-05], [2.549578493926674e-05], [4.386461296235211e-05], [3.8921985833439976e-05], [2.2405725758289918e-05], [1.4117227692622691e-05], [1.6783937098807655e-05], [2.1016896425862797e-05], [2.320219573448412e-05], [1.4361070498125628e-05], [1.1179830835317262e-05], [9.860617865342647e-06], [1.3806917195324786e-05], [1.8493308743927628e-05], [1.5164218893914949e-05], [9.644071724324021e-06], [6.181719982123468e-06], [1.0657352504495066e-05], [1.7907308574649505e-05], [1.5813237041584216e-05], [1.051012623065617e-05], [1.0206516890320927e-05], [1.465731838834472e-05], [1.323094420513371e-05], [1.4935755643818993e-05], [1.2589278412633575e-05], [6.6117372625740245e-06]]\n",
            "[[0.0], [0.0], [0.0], [0.0], [0.0], [0.0], [0.0], [0.0], [0.0], [0.0], [0.0], [0.0], [0.0], [0.0], [0.0], [0.0], [0.0], [0.0], [0.0], [0.0], [0.0], [0.0], [0.0], [0.0], [0.0], [0.0], [0.0], [0.0], [0.0], [0.0], [0.0], [0.0]]\n",
            "[[0.0022735868114978075], [0.0007423577480949461], [0.000773470033891499], [0.00045219468302093446], [0.0003211655421182513], [0.00034536817111074924], [0.0003166876267641783], [0.00040711479960009456], [0.0004067812697030604], [0.00010489230771781877], [0.0001318726863246411], [0.00021933138486929238], [0.00028679086244665086], [0.00024486298207193613], [0.0003379808913450688], [0.00033966870978474617], [0.0004655600350815803], [0.00032401809585280716], [0.00021793731139041483], [0.0002708227839320898], [0.0001937039487529546], [0.00034738698741421103], [0.0003819575940724462], [0.0002614384575281292], [0.00025773182278499007], [0.00014113726501818746], [0.00013756567204836756], [0.00013482120994012803], [0.00018210199777968228], [6.85832928866148e-05], [9.964503260562196e-05], [9.175184095511213e-05]]\n",
            "[[0.23620709776878357], [0.21673408150672913], [0.02658206969499588], [0.01507568545639515], [0.001721493899822235], [0.005249912850558758], [0.0010824213968589902], [0.0017894412158057094], [0.00178484374191612], [0.0014860595110803843], [0.001080977963283658], [0.0015208234544843435], [0.001850504893809557], [0.0006650510476902127], [0.0009637803304940462], [0.00036789989098906517], [0.0003572600253392011], [0.0011633015237748623], [0.0005590596701949835], [0.00036473124055191875], [0.00038806023076176643], [0.0003868748899549246], [0.0006381962448358536], [0.0006147166131995618], [0.00036711484426632524], [0.0002338586637051776], [0.00021653588919434696], [0.00026073874323628843], [0.00015992042608559132], [0.00013886939268559217], [5.852387403137982e-05], [9.082111500902101e-05]]\n",
            "[[0.33697667717933655], [0.6738401055335999], [0.07893390208482742], [0.03564318269491196], [0.017661364749073982], [0.030592288821935654], [0.0037376624532043934], [0.005373936612159014], [0.01191694289445877], [0.014956578612327576], [0.0074262237176299095], [0.017498333007097244], [0.006565939635038376], [0.002446077298372984], [0.0026752217672765255], [0.009400618262588978], [0.004704094957560301], [0.002429025247693062], [0.0014185181353241205], [0.001283772406168282], [0.001913469168357551], [0.003931038547307253], [0.00081877619959414], [0.0004440618213266134], [0.0011645290069282055], [0.00035457423655316234], [0.0009285916457884014], [0.00045330464490689337], [0.0005016133654862642], [9.714409679872915e-05], [7.693788211327046e-05], [3.542527701938525e-05]]\n",
            "[[0.4466601014137268], [1.0818945169448853], [0.19482630491256714], [0.04750695452094078], [0.018451876938343048], [0.02231864258646965], [0.01217199768871069], [0.018287891522049904], [0.015494541265070438], [0.011792800389230251], [0.00851575005799532], [0.01271739974617958], [0.0028139466885477304], [0.006467153783887625], [0.0052771782502532005], [0.004456409253180027], [0.0022743400186300278], [0.0031568221747875214], [0.002268996089696884], [0.0011031075846403837], [0.000998700619675219], [0.0036539598368108273], [0.002710120752453804], [0.00191112095490098], [0.0011070251930505037], [0.00046787530300207436], [0.001204312895424664], [0.000764694414101541], [0.000453147484222427], [0.00025016572908498347], [0.00015194903244264424], [5.5545708164572716e-05]]\n",
            "[[0.49415481090545654], [0.794379472732544], [0.30161333084106445], [0.08148407936096191], [0.0612616240978241], [0.09863651543855667], [0.02351781167089939], [0.01389460638165474], [0.03728708624839783], [0.03138754516839981], [0.016108835116028786], [0.03701295703649521], [0.02708353102207184], [0.020895982161164284], [0.02130674198269844], [0.008906776085495949], [0.011024379171431065], [0.017361706122756004], [0.015605906024575233], [0.02398599684238434], [0.025822043418884277], [0.01836339384317398], [0.01816871576011181], [0.009694317355751991], [0.005994592793285847], [0.009471620433032513], [0.005111800041049719], [0.004668903071433306], [0.0035906594712287188], [0.0020260580349713564], [0.00026943327975459397], [4.6045206545386463e-05]]\n",
            "[[0.3982810080051422], [1.8100677728652954], [0.5768846869468689], [0.2451300323009491], [0.3039155602455139], [0.14841008186340332], [0.0258012805134058], [0.017075780779123306], [0.014018836431205273], [0.009855585172772408], [0.009991839528083801], [0.048448026180267334], [0.043547868728637695], [0.037519484758377075], [0.16162073612213135], [0.052135318517684937], [0.02880101278424263], [0.008487754501402378], [0.0023756232112646103], [0.022931091487407684], [0.025718308985233307], [0.0165637768805027], [0.015904970467090607], [0.005296398885548115], [0.005091111175715923], [0.007928875274956226], [0.004916681908071041], [0.0036033480428159237], [0.0013659107498824596], [0.0008571597281843424], [0.0005044215358793736], [0.00015715599874965847]]\n",
            "[[0.3688783049583435], [1.4915549755096436], [0.9843623042106628], [0.35417672991752625], [0.44667842984199524], [0.12481049448251724], [0.0381595641374588], [0.008023608475923538], [0.013510100543498993], [0.0049246447160840034], [0.00592634454369545], [0.027128323912620544], [0.012182209640741348], [0.029625793918967247], [0.03732679784297943], [0.011995768174529076], [0.008045312017202377], [0.004959893878549337], [0.002286489587277174], [0.017963936552405357], [0.028162620961666107], [0.023279409855604172], [0.014306517317891121], [0.007535331882536411], [0.0058067962527275085], [0.00613374263048172], [0.0056636156514286995], [0.002650210168212652], [0.0007704793242737651], [0.00047463487135246396], [0.00021326968271750957], [0.0001450942800147459]]\n",
            "[[0.602313756942749], [1.4197827577590942], [0.9707613587379456], [0.3992195129394531], [0.44101256132125854], [0.055439356714487076], [0.020206209272146225], [0.0221448615193367], [0.013610722497105598], [0.00788455456495285], [0.008241908624768257], [0.023667849600315094], [0.01211935468018055], [0.02588396705687046], [0.09656026214361191], [0.02212386392056942], [0.0034042492043226957], [0.0043089864775538445], [0.004566539078950882], [0.017933815717697144], [0.016962174326181412], [0.02413334883749485], [0.017827842384576797], [0.010101242922246456], [0.005011676345020533], [0.006908433977514505], [0.0031472176779061556], [0.0011779756750911474], [0.0008223523618653417], [0.0004495953326113522], [0.00010203093552263454], [9.936963760992512e-05]]\n",
            "[[0.5402944087982178], [1.6589645147323608], [1.2947701215744019], [0.8077645301818848], [0.3615177869796753], [0.03489787504076958], [0.013844854198396206], [0.027944132685661316], [0.014712493866682053], [0.007059186697006226], [0.018018130213022232], [0.029395615682005882], [0.01995510421693325], [0.028830714523792267], [0.021305974572896957], [0.021099945530295372], [0.006641876883804798], [0.0016727382317185402], [0.00605435948818922], [0.015615692362189293], [0.01069703046232462], [0.01701010949909687], [0.0203366968780756], [0.006427965592592955], [0.006600355729460716], [0.0019088813569396734], [0.0015840712003409863], [0.0018179984763264656], [0.000749402039218694], [0.0001353936386294663], [5.4035634093452245e-05], [7.301627192646265e-05]]\n",
            "[[0.8391404747962952], [1.475287675857544], [0.9541571736335754], [0.878120481967926], [0.1742173731327057], [0.03854909911751747], [0.02259944938123226], [0.023739052936434746], [0.021335972473025322], [0.012434791773557663], [0.007254042662680149], [0.022547245025634766], [0.03175985813140869], [0.049448009580373764], [0.05748507380485535], [0.019249437376856804], [0.003856875468045473], [0.0037038330920040607], [0.007512936368584633], [0.008194588124752045], [0.011823762208223343], [0.01911068893969059], [0.021089110523462296], [0.007988827303051949], [0.005298806820064783], [0.00692166481167078], [0.007166611030697823], [0.0031954720616340637], [0.0014150839997455478], [0.0003175576566718519], [9.41770413191989e-05], [9.653744928073138e-05]]\n",
            "[[1.0189651250839233], [1.3137164115905762], [1.0420939922332764], [0.7514544129371643], [0.0460335873067379], [0.03913962095975876], [0.022998688742518425], [0.018346639350056648], [0.027751965448260307], [0.014961318112909794], [0.00804790947586298], [0.003459528088569641], [0.012116629630327225], [0.011752116493880749], [0.03987937048077583], [0.006781595293432474], [0.005236889235675335], [0.006823491305112839], [0.008722130209207535], [0.005336493253707886], [0.005232723895460367], [0.011628665961325169], [0.006115628406405449], [0.008488663472235203], [0.0055056409910321236], [0.0038428527768701315], [0.002319036051630974], [0.004103279672563076], [0.0012802935671061277], [0.0003305677091702819], [9.845775639405474e-05], [2.320149178558495e-05]]\n",
            "[[1.0760622024536133], [0.9580247402191162], [0.38559994101524353], [0.3968718945980072], [0.033119287341833115], [0.017353560775518417], [0.02493123523890972], [0.017348933964967728], [0.01212906464934349], [0.006983198691159487], [0.0036958418786525726], [0.004332378972321749], [0.005747330375015736], [0.019634868949651718], [0.028785016387701035], [0.003944078925997019], [0.009159810841083527], [0.0027288051787763834], [0.0005791918956674635], [0.0007797138532623649], [0.0028396709822118282], [0.0023687761276960373], [0.0022201943211257458], [0.002167642582207918], [0.000650183588732034], [0.0034047230146825314], [0.00043471268145367503], [0.0005163857713341713], [0.0006871637888252735], [7.610452303197235e-05], [0.00017621423467062414], [8.73485769261606e-05]]\n",
            "[[0.3809465765953064], [0.4368967115879059], [0.13690730929374695], [0.03408195450901985], [0.0094230305403471], [0.007453444413840771], [0.0052876402623951435], [0.002978463424369693], [0.006732559762895107], [0.0039609563536942005], [0.003233205061405897], [0.0012239761417731643], [0.0024749035947024822], [0.005898871924728155], [0.002091503469273448], [0.002084373962134123], [0.004315459169447422], [0.0014045751886442304], [0.0010834907880052924], [0.0015052089001983404], [0.0007128299912437797], [0.00043304130667820573], [0.0010329665383324027], [0.0011054823407903314], [0.0010644447756931186], [0.0008198196883313358], [0.0010647773742675781], [0.000888220441993326], [0.0003012256929650903], [0.00013427964586298913], [0.00012079138105036691], [7.840013859095052e-05]]\n",
            "[[0.09073148667812347], [0.05243705213069916], [0.0186631977558136], [0.008836294524371624], [0.0032251449301838875], [0.002082180231809616], [0.001150755793787539], [0.0004990422748960555], [0.0005133210215717554], [0.0019339201971888542], [0.0013304613530635834], [0.0011753865983337164], [0.00035907060373574495], [0.00159488245844841], [0.0010163327679038048], [0.000652596412692219], [0.0007503795204684138], [0.0002184816257795319], [0.0004593174089677632], [0.00025066040689125657], [0.0010478872573003173], [0.00029880047077313066], [0.0003369662445038557], [0.0001699992862995714], [0.0002759252965915948], [0.0002883927372749895], [9.060854790732265e-05], [0.00021907540212851018], [0.00013212976045906544], [0.0001459800114389509], [0.00015877977421041578], [5.2837833209196106e-05]]\n",
            "[[0.002616291167214513], [0.001653777901083231], [0.00032393826404586434], [0.0007416850421577692], [0.00048572351806797087], [0.00039761693915352225], [0.00021631043637171388], [0.0003497768775559962], [0.0002772021689452231], [0.0002394026523688808], [0.00017197641136590391], [0.00010206304432358593], [7.472861761925742e-05], [0.00011621582962106913], [0.0002390562731307], [0.00017609464703127742], [0.00012228610285092145], [7.340657612076029e-05], [0.0001619578106328845], [0.00010318691784050316], [8.103172876872122e-05], [0.00011653764522634447], [7.964545511640608e-05], [6.607047544093803e-05], [9.639053314458579e-05], [9.460485307499766e-05], [9.533178672427312e-05], [7.330453809117898e-05], [7.247694884426892e-05], [7.210693729575723e-05], [9.754532220540568e-05], [5.493011849466711e-05]]\n",
            "[[0.002185581484809518], [0.00037543405778706074], [0.00010017299791797996], [0.0002423463447485119], [7.330725929932669e-05], [9.356647206004709e-05], [0.0001806562504498288], [0.00011692057887557894], [3.26603876601439e-05], [8.122719009406865e-05], [9.360621334053576e-05], [0.00014501003897748888], [8.71026495588012e-05], [0.00011030574387405068], [6.578559259651229e-05], [4.727276973426342e-05], [2.0546252926578745e-05], [5.453623452922329e-05], [5.580012293648906e-05], [5.846546628163196e-05], [5.937861715210602e-05], [5.203808905207552e-05], [4.6354653022717685e-05], [3.4083863283740357e-05], [3.5115495848003775e-05], [7.142752292566001e-05], [3.968547753174789e-05], [4.7163761337287724e-05], [4.749709478346631e-05], [3.625972749432549e-05], [4.888932016910985e-05], [3.2934487535385415e-05]]\n",
            "[[0.0018758638761937618], [0.0006150593981146812], [9.429107012692839e-05], [0.00010160265082959086], [8.123678708216175e-05], [4.764608456753194e-05], [7.725600153207779e-05], [1.7029244190780446e-05], [8.147371408995241e-05], [4.2073832446476445e-05], [3.8081183447502553e-05], [5.68486939300783e-05], [3.8459329516626894e-05], [3.084359195781872e-05], [3.430029028095305e-05], [3.282078614574857e-05], [2.658269295352511e-05], [1.7436963389627635e-05], [2.5231827748939395e-05], [2.0275598217267543e-05], [9.849007255979814e-06], [1.4316541637526825e-05], [2.8221287720953114e-05], [2.5445397113799118e-05], [2.838669934135396e-05], [3.276845745858736e-05], [1.7790736819733866e-05], [1.4706871297676116e-05], [2.6774134312290698e-05], [2.709850377868861e-05], [1.829275061027147e-05], [1.582292861712631e-05]]\n",
            "muoto 28   28   64\n",
            "14   14   64\n",
            "valmis tulos =  [2.2568938732147217, 4.191863059997559, -3.872983932495117, 5.684948921203613, -5.098589897155762, -3.3092403411865234, -6.166326522827148, -2.714177131652832]\n",
            "oma tulos =  [-4.736129431787169, -0.5514802919896031, 2.022724583117564, 0.5723445915091443, -11.838457329904058, 3.7298543969662123, 1.3054886031290547, -2.9276667165111174]\n"
          ]
        },
        {
          "output_type": "display_data",
          "data": {
            "text/plain": [
              "<Figure size 640x480 with 2 Axes>"
            ],
            "image/png": "[encoded data removed]"
          },
          "metadata": {}
        }
      ],
      "source": [
        "(start, layer, end) = get_reference_layer(\"resizing_24\", model)\n",
        "norm_weights = listify(get_layer_weights(\"normalization_24\", model))\n",
        "conv_weights1 = listify(get_layer_weights(\"conv2d_48\", model))\n",
        "conv_weights2 = listify(get_layer_weights(\"conv2d_49\", model))\n",
        "weights1 = listify(get_layer_weights(\"dense_51\",model))\n",
        "weights2 = listify(get_layer_weights(\"dense_52\",model))\n",
        "\n",
        "\n",
        "layer_result = listify(model(x))\n",
        "\n",
        "start_point = start(x)\n",
        "testi = listify(layer(start_point))\n",
        "#print(start_point)\n",
        "start_point = listify(start_point)\n",
        "\n",
        "width = 32\n",
        "height = 32\n",
        "w0 = listify(norm_weights)\n",
        "w1 = listify(conv_weights1[0])\n",
        "b1 = listify(conv_weights1[1])\n",
        "w2 = listify(conv_weights2[0])\n",
        "b2 = listify(conv_weights2[1])\n",
        "w3 = listify(weights1[0])\n",
        "b3 = listify(weights1[1])\n",
        "w4 = listify(weights2[0])\n",
        "b4 = listify(weights2[1])\n",
        "\n",
        "step0 = resize(start_point, width, height)\n",
        "print()\n",
        "for i in range(len(testi)):\n",
        "  print(testi[i])\n",
        "step1 = normalize(step0, w0)\n",
        "step2 = convolution(step1, w1, b1)\n",
        "step3 = convolution(step2, w2, b2)\n",
        "step4 = maxpool(step3)\n",
        "step5 = flatten(step4)\n",
        "step6 = dense1(step5, w3, b3)\n",
        "layer_oma_result = dense2(step6, w4, b4)\n",
        "print(\"valmis tulos = \", layer_result)\n",
        "print(\"oma tulos = \", layer_oma_result)\n",
        "\n",
        "plt.figure(1)\n",
        "plt.subplot(1,2,1)\n",
        "plt.bar(x_labels, tf.nn.softmax(layer_result[:]))\n",
        "plt.subplot(1,2,2)\n",
        "plt.bar(x_labels, tf.nn.softmax(layer_oma_result[:]))\n",
        "plt.show()\n"
      ]
    }
  ],
  "metadata": {
    "colab": {
      "provenance": [],
      "include_colab_link": true
    },
    "kernelspec": {
      "display_name": "Python 3",
      "name": "python3"
    },
    "language_info": {
      "name": "python"
    }
  },
  "nbformat": 4,
  "nbformat_minor": 0
}